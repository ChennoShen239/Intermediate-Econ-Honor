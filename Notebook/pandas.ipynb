{
 "cells": [
  {
   "cell_type": "markdown",
   "id": "69ff767a",
   "metadata": {},
   "source": [
    "# Pandas\n",
    "\n",
    "\n",
    "<a id='index-1'></a>\n",
    "In addition to what’s in Anaconda, this lecture will need the following libraries:"
   ]
  },
  {
   "cell_type": "code",
   "execution_count": 1,
   "id": "4be9e6f2",
   "metadata": {
    "hide-output": false
   },
   "outputs": [
    {
     "name": "stdout",
     "output_type": "stream",
     "text": [
      "Defaulting to user installation because normal site-packages is not writeable\n",
      "Looking in indexes: https://pypi.tuna.tsinghua.edu.cn/simple\n",
      "Collecting pandas-datareader\n",
      "  Downloading https://pypi.tuna.tsinghua.edu.cn/packages/3f/16/56c9d648b503619ebe96f726b5f642b68e299b34162ed2d6faa9d7966b7d/pandas_datareader-0.10.0-py3-none-any.whl (109 kB)\n",
      "\u001b[2K     \u001b[90m━━━━━━━━━━━━━━━━━━━━━━━━━━━━━━━━━━━━━\u001b[0m \u001b[32m109.5/109.5 kB\u001b[0m \u001b[31m395.9 kB/s\u001b[0m eta \u001b[36m0:00:00\u001b[0ma \u001b[36m0:00:01\u001b[0m\n",
      "\u001b[?25hCollecting lxml\n",
      "  Downloading https://pypi.tuna.tsinghua.edu.cn/packages/51/79/9f7d249850c9f8357538055359bffa91cc9f0606fcea72b6881fdea9ee39/lxml-5.2.2-cp39-cp39-macosx_10_9_universal2.whl (8.1 MB)\n",
      "\u001b[2K     \u001b[90m━━━━━━━━━━━━━━━━━━━━━━━━━━━━━━━━━━━━━━━━\u001b[0m \u001b[32m8.1/8.1 MB\u001b[0m \u001b[31m6.1 MB/s\u001b[0m eta \u001b[36m0:00:00\u001b[0m00:01\u001b[0m00:01\u001b[0m\n",
      "\u001b[?25hRequirement already satisfied: requests>=2.19.0 in /Users/cheney_gao/Library/Python/3.9/lib/python/site-packages (from pandas-datareader) (2.31.0)\n",
      "Requirement already satisfied: pandas>=0.23 in /Users/cheney_gao/Library/Python/3.9/lib/python/site-packages (from pandas-datareader) (2.2.2)\n",
      "Requirement already satisfied: numpy>=1.22.4 in /Users/cheney_gao/Library/Python/3.9/lib/python/site-packages (from pandas>=0.23->pandas-datareader) (1.24.2)\n",
      "Requirement already satisfied: tzdata>=2022.7 in /Users/cheney_gao/Library/Python/3.9/lib/python/site-packages (from pandas>=0.23->pandas-datareader) (2024.1)\n",
      "Requirement already satisfied: python-dateutil>=2.8.2 in /Users/cheney_gao/Library/Python/3.9/lib/python/site-packages (from pandas>=0.23->pandas-datareader) (2.8.2)\n",
      "Requirement already satisfied: pytz>=2020.1 in /Users/cheney_gao/Library/Python/3.9/lib/python/site-packages (from pandas>=0.23->pandas-datareader) (2024.1)\n",
      "Requirement already satisfied: certifi>=2017.4.17 in /Users/cheney_gao/Library/Python/3.9/lib/python/site-packages (from requests>=2.19.0->pandas-datareader) (2024.2.2)\n",
      "Requirement already satisfied: idna<4,>=2.5 in /Users/cheney_gao/Library/Python/3.9/lib/python/site-packages (from requests>=2.19.0->pandas-datareader) (3.7)\n",
      "Requirement already satisfied: urllib3<3,>=1.21.1 in /Users/cheney_gao/Library/Python/3.9/lib/python/site-packages (from requests>=2.19.0->pandas-datareader) (2.2.1)\n",
      "Requirement already satisfied: charset-normalizer<4,>=2 in /Users/cheney_gao/Library/Python/3.9/lib/python/site-packages (from requests>=2.19.0->pandas-datareader) (3.3.2)\n",
      "Requirement already satisfied: six>=1.5 in /Library/Developer/CommandLineTools/Library/Frameworks/Python3.framework/Versions/3.9/lib/python3.9/site-packages (from python-dateutil>=2.8.2->pandas>=0.23->pandas-datareader) (1.15.0)\n",
      "Installing collected packages: lxml, pandas-datareader\n",
      "Successfully installed lxml-5.2.2 pandas-datareader-0.10.0\n",
      "\n",
      "\u001b[1m[\u001b[0m\u001b[34;49mnotice\u001b[0m\u001b[1;39;49m]\u001b[0m\u001b[39;49m A new release of pip is available: \u001b[0m\u001b[31;49m23.0.1\u001b[0m\u001b[39;49m -> \u001b[0m\u001b[32;49m24.1.2\u001b[0m\n",
      "\u001b[1m[\u001b[0m\u001b[34;49mnotice\u001b[0m\u001b[1;39;49m]\u001b[0m\u001b[39;49m To update, run: \u001b[0m\u001b[32;49m/Library/Developer/CommandLineTools/usr/bin/python3 -m pip install --upgrade pip\u001b[0m\n",
      "Defaulting to user installation because normal site-packages is not writeable\n",
      "Looking in indexes: https://pypi.tuna.tsinghua.edu.cn/simple\n",
      "Collecting yfinance\n",
      "  Downloading https://pypi.tuna.tsinghua.edu.cn/packages/db/fc/10b7d339ccf6725e13408d76fb1e944f512590a949af426503c38d4af712/yfinance-0.2.41-py2.py3-none-any.whl (73 kB)\n",
      "\u001b[2K     \u001b[90m━━━━━━━━━━━━━━━━━━━━━━━━━━━━━━━━━━━━━━━━\u001b[0m \u001b[32m73.5/73.5 kB\u001b[0m \u001b[31m3.1 MB/s\u001b[0m eta \u001b[36m0:00:00\u001b[0m\n",
      "\u001b[?25hRequirement already satisfied: pytz>=2022.5 in /Users/cheney_gao/Library/Python/3.9/lib/python/site-packages (from yfinance) (2024.1)\n",
      "Requirement already satisfied: numpy>=1.16.5 in /Users/cheney_gao/Library/Python/3.9/lib/python/site-packages (from yfinance) (1.24.2)\n",
      "Collecting beautifulsoup4>=4.11.1\n",
      "  Downloading https://pypi.tuna.tsinghua.edu.cn/packages/b1/fe/e8c672695b37eecc5cbf43e1d0638d88d66ba3a44c4d321c796f4e59167f/beautifulsoup4-4.12.3-py3-none-any.whl (147 kB)\n",
      "\u001b[2K     \u001b[90m━━━━━━━━━━━━━━━━━━━━━━━━━━━━━━━━━━━━━━━\u001b[0m \u001b[32m147.9/147.9 kB\u001b[0m \u001b[31m4.9 MB/s\u001b[0m eta \u001b[36m0:00:00\u001b[0m\n",
      "\u001b[?25hCollecting html5lib>=1.1\n",
      "  Downloading https://pypi.tuna.tsinghua.edu.cn/packages/6c/dd/a834df6482147d48e225a49515aabc28974ad5a4ca3215c18a882565b028/html5lib-1.1-py2.py3-none-any.whl (112 kB)\n",
      "\u001b[2K     \u001b[90m━━━━━━━━━━━━━━━━━━━━━━━━━━━━━━━━━━━━━━━\u001b[0m \u001b[32m112.2/112.2 kB\u001b[0m \u001b[31m1.7 MB/s\u001b[0m eta \u001b[36m0:00:00\u001b[0ma \u001b[36m0:00:01\u001b[0m\n",
      "\u001b[?25hRequirement already satisfied: lxml>=4.9.1 in /Users/cheney_gao/Library/Python/3.9/lib/python/site-packages (from yfinance) (5.2.2)\n",
      "Collecting frozendict>=2.3.4\n",
      "  Downloading https://pypi.tuna.tsinghua.edu.cn/packages/02/e5/b9794781c972db003ec136d72f1f7e1aa57756df094554160cb185616607/frozendict-2.4.4-cp39-cp39-macosx_11_0_arm64.whl (37 kB)\n",
      "Requirement already satisfied: platformdirs>=2.0.0 in /Users/cheney_gao/Library/Python/3.9/lib/python/site-packages (from yfinance) (3.9.1)\n",
      "Requirement already satisfied: requests>=2.31 in /Users/cheney_gao/Library/Python/3.9/lib/python/site-packages (from yfinance) (2.31.0)\n",
      "Collecting multitasking>=0.0.7\n",
      "  Downloading https://pypi.tuna.tsinghua.edu.cn/packages/3e/8a/bb3160e76e844db9e69a413f055818969c8acade64e1a9ac5ce9dfdcf6c1/multitasking-0.0.11-py3-none-any.whl (8.5 kB)\n",
      "Requirement already satisfied: pandas>=1.3.0 in /Users/cheney_gao/Library/Python/3.9/lib/python/site-packages (from yfinance) (2.2.2)\n",
      "Collecting peewee>=3.16.2\n",
      "  Downloading https://pypi.tuna.tsinghua.edu.cn/packages/bd/be/e9c886b4601a19f4c34a1b75c5fe8b98a2115dd964251a76b24c977c369d/peewee-3.17.6.tar.gz (3.0 MB)\n",
      "\u001b[2K     \u001b[90m━━━━━━━━━━━━━━━━━━━━━━━━━━━━━━━━━━━━━━━━\u001b[0m \u001b[32m3.0/3.0 MB\u001b[0m \u001b[31m9.8 MB/s\u001b[0m eta \u001b[36m0:00:00\u001b[0mta \u001b[36m0:00:01\u001b[0m\n",
      "\u001b[?25h  Installing build dependencies ... \u001b[?25ldone\n",
      "\u001b[?25h  Getting requirements to build wheel ... \u001b[?25ldone\n",
      "\u001b[?25h  Preparing metadata (pyproject.toml) ... \u001b[?25ldone\n",
      "\u001b[?25hCollecting soupsieve>1.2\n",
      "  Downloading https://pypi.tuna.tsinghua.edu.cn/packages/4c/f3/038b302fdfbe3be7da016777069f26ceefe11a681055ea1f7817546508e3/soupsieve-2.5-py3-none-any.whl (36 kB)\n",
      "Collecting webencodings\n",
      "  Downloading https://pypi.tuna.tsinghua.edu.cn/packages/f4/24/2a3e3df732393fed8b3ebf2ec078f05546de641fe1b667ee316ec1dcf3b7/webencodings-0.5.1-py2.py3-none-any.whl (11 kB)\n",
      "Requirement already satisfied: six>=1.9 in /Library/Developer/CommandLineTools/Library/Frameworks/Python3.framework/Versions/3.9/lib/python3.9/site-packages (from html5lib>=1.1->yfinance) (1.15.0)\n",
      "Requirement already satisfied: tzdata>=2022.7 in /Users/cheney_gao/Library/Python/3.9/lib/python/site-packages (from pandas>=1.3.0->yfinance) (2024.1)\n",
      "Requirement already satisfied: python-dateutil>=2.8.2 in /Users/cheney_gao/Library/Python/3.9/lib/python/site-packages (from pandas>=1.3.0->yfinance) (2.8.2)\n",
      "Requirement already satisfied: charset-normalizer<4,>=2 in /Users/cheney_gao/Library/Python/3.9/lib/python/site-packages (from requests>=2.31->yfinance) (3.3.2)\n",
      "Requirement already satisfied: urllib3<3,>=1.21.1 in /Users/cheney_gao/Library/Python/3.9/lib/python/site-packages (from requests>=2.31->yfinance) (2.2.1)\n",
      "Requirement already satisfied: idna<4,>=2.5 in /Users/cheney_gao/Library/Python/3.9/lib/python/site-packages (from requests>=2.31->yfinance) (3.7)\n",
      "Requirement already satisfied: certifi>=2017.4.17 in /Users/cheney_gao/Library/Python/3.9/lib/python/site-packages (from requests>=2.31->yfinance) (2024.2.2)\n",
      "Building wheels for collected packages: peewee\n",
      "  Building wheel for peewee (pyproject.toml) ... \u001b[?25ldone\n",
      "\u001b[?25h  Created wheel for peewee: filename=peewee-3.17.6-cp39-cp39-macosx_10_9_universal2.whl size=390128 sha256=fe5e3e361146fd30f9a9e0fe5a668407b4543055b3ec06ca04ae468f53e427a5\n",
      "  Stored in directory: /Users/cheney_gao/Library/Caches/pip/wheels/b4/fe/b7/ddfae4d159c4b4b86890ab3c691bae86456b186e4111ef6d46\n",
      "Successfully built peewee\n",
      "Installing collected packages: webencodings, peewee, multitasking, soupsieve, html5lib, frozendict, beautifulsoup4, yfinance\n",
      "Successfully installed beautifulsoup4-4.12.3 frozendict-2.4.4 html5lib-1.1 multitasking-0.0.11 peewee-3.17.6 soupsieve-2.5 webencodings-0.5.1 yfinance-0.2.41\n",
      "\n",
      "\u001b[1m[\u001b[0m\u001b[34;49mnotice\u001b[0m\u001b[1;39;49m]\u001b[0m\u001b[39;49m A new release of pip is available: \u001b[0m\u001b[31;49m23.0.1\u001b[0m\u001b[39;49m -> \u001b[0m\u001b[32;49m24.1.2\u001b[0m\n",
      "\u001b[1m[\u001b[0m\u001b[34;49mnotice\u001b[0m\u001b[1;39;49m]\u001b[0m\u001b[39;49m To update, run: \u001b[0m\u001b[32;49m/Library/Developer/CommandLineTools/usr/bin/python3 -m pip install --upgrade pip\u001b[0m\n"
     ]
    }
   ],
   "source": [
    "!pip install --upgrade pandas-datareader\n",
    "!pip install --upgrade yfinance"
   ]
  },
  {
   "cell_type": "markdown",
   "id": "dff8ca08",
   "metadata": {},
   "source": [
    "## Overview\n",
    "\n",
    "[Pandas](http://pandas.pydata.org/) is a package of fast, efficient data analysis tools for Python.\n",
    "\n",
    "Its popularity has surged in recent years, coincident with the rise\n",
    "of fields such as data science and machine learning.\n",
    "\n",
    "  \n",
    "Just as [NumPy](http://www.numpy.org/) provides the basic array data type plus core array operations, pandas\n",
    "\n",
    "1. defines fundamental structures for working with data and  \n",
    "2. endows them with methods that facilitate operations such as  \n",
    "  - reading in data  \n",
    "  - adjusting indices  \n",
    "  - working with dates and time series  \n",
    "  - sorting, grouping, re-ordering and general data munging <sup><a href=#mung id=mung-link>[1]</a></sup>  \n",
    "  - dealing with missing values, etc., etc.  \n",
    "\n",
    "\n",
    "More sophisticated statistical functionality is left to other packages, such\n",
    "as [statsmodels](http://www.statsmodels.org/) and [scikit-learn](http://scikit-learn.org/), which are built on top of pandas.\n",
    "\n",
    "This lecture will provide a basic introduction to pandas.\n",
    "\n",
    "Throughout the lecture, we will assume that the following imports have taken\n",
    "place"
   ]
  },
  {
   "cell_type": "code",
   "execution_count": 2,
   "id": "650d6b23",
   "metadata": {
    "hide-output": false
   },
   "outputs": [
    {
     "name": "stderr",
     "output_type": "stream",
     "text": [
      "/Users/cheney_gao/Library/Python/3.9/lib/python/site-packages/urllib3/__init__.py:35: NotOpenSSLWarning: urllib3 v2 only supports OpenSSL 1.1.1+, currently the 'ssl' module is compiled with 'LibreSSL 2.8.3'. See: https://github.com/urllib3/urllib3/issues/3020\n",
      "  warnings.warn(\n"
     ]
    }
   ],
   "source": [
    "import pandas as pd\n",
    "import numpy as np\n",
    "import matplotlib.pyplot as plt\n",
    "import requests"
   ]
  },
  {
   "cell_type": "markdown",
   "id": "4c6b63c5",
   "metadata": {},
   "source": [
    "Two important data types defined by pandas are  `Series` and `DataFrame`.\n",
    "\n",
    "You can think of a `Series` as a “column” of data, such as a collection of observations on a single variable.\n",
    "\n",
    "A `DataFrame` is a two-dimensional object for storing related columns of data."
   ]
  },
  {
   "cell_type": "markdown",
   "id": "2e2ff6bb",
   "metadata": {},
   "source": [
    "## Series\n",
    "\n",
    "\n",
    "<a id='index-2'></a>\n",
    "Let’s start with Series.\n",
    "\n",
    "We begin by creating a series of four random observations"
   ]
  },
  {
   "cell_type": "code",
   "execution_count": 3,
   "id": "2c0ea9b1",
   "metadata": {
    "hide-output": false
   },
   "outputs": [
    {
     "data": {
      "text/plain": [
       "0    1.052282\n",
       "1    0.361496\n",
       "2   -0.648000\n",
       "3   -0.585500\n",
       "Name: daily returns, dtype: float64"
      ]
     },
     "execution_count": 3,
     "metadata": {},
     "output_type": "execute_result"
    }
   ],
   "source": [
    "s = pd.Series(np.random.randn(4), name='daily returns')\n",
    "s"
   ]
  },
  {
   "cell_type": "markdown",
   "id": "5a3b720d",
   "metadata": {},
   "source": [
    "Here you can imagine the indices `0, 1, 2, 3` as indexing four listed\n",
    "companies, and the values being daily returns on their shares.\n",
    "\n",
    "Pandas `Series` are built on top of NumPy arrays and support many similar\n",
    "operations"
   ]
  },
  {
   "cell_type": "code",
   "execution_count": 4,
   "id": "07695dd1",
   "metadata": {
    "hide-output": false
   },
   "outputs": [
    {
     "data": {
      "text/plain": [
       "0    105.228216\n",
       "1     36.149575\n",
       "2    -64.799964\n",
       "3    -58.550002\n",
       "Name: daily returns, dtype: float64"
      ]
     },
     "execution_count": 4,
     "metadata": {},
     "output_type": "execute_result"
    }
   ],
   "source": [
    "s * 100"
   ]
  },
  {
   "cell_type": "code",
   "execution_count": 5,
   "id": "71ec6ee5",
   "metadata": {
    "hide-output": false
   },
   "outputs": [
    {
     "data": {
      "text/plain": [
       "0    1.052282\n",
       "1    0.361496\n",
       "2    0.648000\n",
       "3    0.585500\n",
       "Name: daily returns, dtype: float64"
      ]
     },
     "execution_count": 5,
     "metadata": {},
     "output_type": "execute_result"
    }
   ],
   "source": [
    "np.abs(s)"
   ]
  },
  {
   "cell_type": "markdown",
   "id": "5d6e9f4b",
   "metadata": {},
   "source": [
    "But `Series` provide more than NumPy arrays.\n",
    "\n",
    "Not only do they have some additional (statistically oriented) methods"
   ]
  },
  {
   "cell_type": "code",
   "execution_count": 6,
   "id": "1977b49b",
   "metadata": {
    "hide-output": false
   },
   "outputs": [
    {
     "data": {
      "text/plain": [
       "count    4.000000\n",
       "mean     0.045070\n",
       "std      0.814978\n",
       "min     -0.648000\n",
       "25%     -0.601125\n",
       "50%     -0.112002\n",
       "75%      0.534192\n",
       "max      1.052282\n",
       "Name: daily returns, dtype: float64"
      ]
     },
     "execution_count": 6,
     "metadata": {},
     "output_type": "execute_result"
    }
   ],
   "source": [
    "s.describe()"
   ]
  },
  {
   "cell_type": "markdown",
   "id": "b1625c02",
   "metadata": {},
   "source": [
    "But their indices are more flexible"
   ]
  },
  {
   "cell_type": "code",
   "execution_count": 7,
   "id": "b52a3984",
   "metadata": {
    "hide-output": false
   },
   "outputs": [
    {
     "data": {
      "text/plain": [
       "AMZN    1.052282\n",
       "AAPL    0.361496\n",
       "MSFT   -0.648000\n",
       "GOOG   -0.585500\n",
       "Name: daily returns, dtype: float64"
      ]
     },
     "execution_count": 7,
     "metadata": {},
     "output_type": "execute_result"
    }
   ],
   "source": [
    "s.index = ['AMZN', 'AAPL', 'MSFT', 'GOOG']\n",
    "s"
   ]
  },
  {
   "cell_type": "markdown",
   "id": "321e34b6",
   "metadata": {},
   "source": [
    "Viewed in this way, `Series` are like fast, efficient Python dictionaries\n",
    "(with the restriction that the items in the dictionary all have the same\n",
    "type—in this case, floats).\n",
    "\n",
    "In fact, you can use much of the same syntax as Python dictionaries"
   ]
  },
  {
   "cell_type": "code",
   "execution_count": 8,
   "id": "6e670631",
   "metadata": {
    "hide-output": false
   },
   "outputs": [
    {
     "data": {
      "text/plain": [
       "1.0522821587952125"
      ]
     },
     "execution_count": 8,
     "metadata": {},
     "output_type": "execute_result"
    }
   ],
   "source": [
    "s['AMZN']"
   ]
  },
  {
   "cell_type": "code",
   "execution_count": 9,
   "id": "4e081fb0",
   "metadata": {
    "hide-output": false
   },
   "outputs": [
    {
     "data": {
      "text/plain": [
       "AMZN    0.000000\n",
       "AAPL    0.361496\n",
       "MSFT   -0.648000\n",
       "GOOG   -0.585500\n",
       "Name: daily returns, dtype: float64"
      ]
     },
     "execution_count": 9,
     "metadata": {},
     "output_type": "execute_result"
    }
   ],
   "source": [
    "s['AMZN'] = 0\n",
    "s"
   ]
  },
  {
   "cell_type": "code",
   "execution_count": 10,
   "id": "af3e45cf",
   "metadata": {
    "hide-output": false
   },
   "outputs": [
    {
     "data": {
      "text/plain": [
       "True"
      ]
     },
     "execution_count": 10,
     "metadata": {},
     "output_type": "execute_result"
    }
   ],
   "source": [
    "'AAPL' in s"
   ]
  },
  {
   "cell_type": "markdown",
   "id": "da20c374",
   "metadata": {},
   "source": [
    "## DataFrames\n",
    "\n",
    "\n",
    "<a id='index-3'></a>\n",
    "While a `Series` is a single column of data, a `DataFrame` is several columns, one for each variable.\n",
    "\n",
    "In essence, a `DataFrame` in pandas is analogous to a (highly optimized) Excel spreadsheet.\n",
    "\n",
    "Thus, it is a powerful tool for representing and analyzing data that are naturally organized into rows and columns, often with descriptive indexes for individual rows and individual columns.\n",
    "\n",
    "Let’s look at an example that reads data from the CSV file `pandas/data/test_pwt.csv`, which is taken from the [Penn World Tables](https://www.rug.nl/ggdc/productivity/pwt/pwt-releases/pwt-7.0).\n",
    "\n",
    "The dataset contains the following indicators\n",
    "\n",
    "|Variable Name|Description|\n",
    "|:------------------------------------------------:|:------------------------------------------------:|\n",
    "|POP|Population (in thousands)|\n",
    "|XRAT|Exchange Rate to US Dollar|\n",
    "|tcgdp|Total PPP Converted GDP (in million international dollar)|\n",
    "|cc|Consumption Share of PPP Converted GDP Per Capita (%)|\n",
    "|cg|Government Consumption Share of PPP Converted GDP Per Capita (%)|\n",
    "We’ll read this in from a URL using the `pandas` function `read_csv`."
   ]
  },
  {
   "cell_type": "code",
   "execution_count": 11,
   "id": "2eeec4b1",
   "metadata": {
    "hide-output": false
   },
   "outputs": [
    {
     "data": {
      "text/plain": [
       "pandas.core.frame.DataFrame"
      ]
     },
     "execution_count": 11,
     "metadata": {},
     "output_type": "execute_result"
    }
   ],
   "source": [
    "df = pd.read_csv('https://raw.githubusercontent.com/QuantEcon/lecture-python-programming/master/source/_static/lecture_specific/pandas/data/test_pwt.csv')\n",
    "type(df)"
   ]
  },
  {
   "cell_type": "markdown",
   "id": "e0c22676",
   "metadata": {},
   "source": [
    "Here’s the content of `test_pwt.csv`"
   ]
  },
  {
   "cell_type": "code",
   "execution_count": 12,
   "id": "0dba0631",
   "metadata": {
    "hide-output": false
   },
   "outputs": [
    {
     "data": {
      "text/html": [
       "<div>\n",
       "<style scoped>\n",
       "    .dataframe tbody tr th:only-of-type {\n",
       "        vertical-align: middle;\n",
       "    }\n",
       "\n",
       "    .dataframe tbody tr th {\n",
       "        vertical-align: top;\n",
       "    }\n",
       "\n",
       "    .dataframe thead th {\n",
       "        text-align: right;\n",
       "    }\n",
       "</style>\n",
       "<table border=\"1\" class=\"dataframe\">\n",
       "  <thead>\n",
       "    <tr style=\"text-align: right;\">\n",
       "      <th></th>\n",
       "      <th>country</th>\n",
       "      <th>country isocode</th>\n",
       "      <th>year</th>\n",
       "      <th>POP</th>\n",
       "      <th>XRAT</th>\n",
       "      <th>tcgdp</th>\n",
       "      <th>cc</th>\n",
       "      <th>cg</th>\n",
       "    </tr>\n",
       "  </thead>\n",
       "  <tbody>\n",
       "    <tr>\n",
       "      <th>0</th>\n",
       "      <td>Argentina</td>\n",
       "      <td>ARG</td>\n",
       "      <td>2000</td>\n",
       "      <td>37335.653</td>\n",
       "      <td>0.999500</td>\n",
       "      <td>2.950722e+05</td>\n",
       "      <td>75.716805</td>\n",
       "      <td>5.578804</td>\n",
       "    </tr>\n",
       "    <tr>\n",
       "      <th>1</th>\n",
       "      <td>Australia</td>\n",
       "      <td>AUS</td>\n",
       "      <td>2000</td>\n",
       "      <td>19053.186</td>\n",
       "      <td>1.724830</td>\n",
       "      <td>5.418047e+05</td>\n",
       "      <td>67.759026</td>\n",
       "      <td>6.720098</td>\n",
       "    </tr>\n",
       "    <tr>\n",
       "      <th>2</th>\n",
       "      <td>India</td>\n",
       "      <td>IND</td>\n",
       "      <td>2000</td>\n",
       "      <td>1006300.297</td>\n",
       "      <td>44.941600</td>\n",
       "      <td>1.728144e+06</td>\n",
       "      <td>64.575551</td>\n",
       "      <td>14.072206</td>\n",
       "    </tr>\n",
       "    <tr>\n",
       "      <th>3</th>\n",
       "      <td>Israel</td>\n",
       "      <td>ISR</td>\n",
       "      <td>2000</td>\n",
       "      <td>6114.570</td>\n",
       "      <td>4.077330</td>\n",
       "      <td>1.292539e+05</td>\n",
       "      <td>64.436451</td>\n",
       "      <td>10.266688</td>\n",
       "    </tr>\n",
       "    <tr>\n",
       "      <th>4</th>\n",
       "      <td>Malawi</td>\n",
       "      <td>MWI</td>\n",
       "      <td>2000</td>\n",
       "      <td>11801.505</td>\n",
       "      <td>59.543808</td>\n",
       "      <td>5.026222e+03</td>\n",
       "      <td>74.707624</td>\n",
       "      <td>11.658954</td>\n",
       "    </tr>\n",
       "    <tr>\n",
       "      <th>5</th>\n",
       "      <td>South Africa</td>\n",
       "      <td>ZAF</td>\n",
       "      <td>2000</td>\n",
       "      <td>45064.098</td>\n",
       "      <td>6.939830</td>\n",
       "      <td>2.272424e+05</td>\n",
       "      <td>72.718710</td>\n",
       "      <td>5.726546</td>\n",
       "    </tr>\n",
       "    <tr>\n",
       "      <th>6</th>\n",
       "      <td>United States</td>\n",
       "      <td>USA</td>\n",
       "      <td>2000</td>\n",
       "      <td>282171.957</td>\n",
       "      <td>1.000000</td>\n",
       "      <td>9.898700e+06</td>\n",
       "      <td>72.347054</td>\n",
       "      <td>6.032454</td>\n",
       "    </tr>\n",
       "    <tr>\n",
       "      <th>7</th>\n",
       "      <td>Uruguay</td>\n",
       "      <td>URY</td>\n",
       "      <td>2000</td>\n",
       "      <td>3219.793</td>\n",
       "      <td>12.099592</td>\n",
       "      <td>2.525596e+04</td>\n",
       "      <td>78.978740</td>\n",
       "      <td>5.108068</td>\n",
       "    </tr>\n",
       "  </tbody>\n",
       "</table>\n",
       "</div>"
      ],
      "text/plain": [
       "         country country isocode  year          POP       XRAT         tcgdp  \\\n",
       "0      Argentina             ARG  2000    37335.653   0.999500  2.950722e+05   \n",
       "1      Australia             AUS  2000    19053.186   1.724830  5.418047e+05   \n",
       "2          India             IND  2000  1006300.297  44.941600  1.728144e+06   \n",
       "3         Israel             ISR  2000     6114.570   4.077330  1.292539e+05   \n",
       "4         Malawi             MWI  2000    11801.505  59.543808  5.026222e+03   \n",
       "5   South Africa             ZAF  2000    45064.098   6.939830  2.272424e+05   \n",
       "6  United States             USA  2000   282171.957   1.000000  9.898700e+06   \n",
       "7        Uruguay             URY  2000     3219.793  12.099592  2.525596e+04   \n",
       "\n",
       "          cc         cg  \n",
       "0  75.716805   5.578804  \n",
       "1  67.759026   6.720098  \n",
       "2  64.575551  14.072206  \n",
       "3  64.436451  10.266688  \n",
       "4  74.707624  11.658954  \n",
       "5  72.718710   5.726546  \n",
       "6  72.347054   6.032454  \n",
       "7  78.978740   5.108068  "
      ]
     },
     "execution_count": 12,
     "metadata": {},
     "output_type": "execute_result"
    }
   ],
   "source": [
    "df"
   ]
  },
  {
   "cell_type": "markdown",
   "id": "b68f20a7",
   "metadata": {},
   "source": [
    "### Select Data by Position\n",
    "\n",
    "In practice, one thing that we do all the time is to find, select and work with a subset of the data of our interests.\n",
    "\n",
    "We can select particular rows using standard Python array slicing notation"
   ]
  },
  {
   "cell_type": "code",
   "execution_count": 13,
   "id": "a9f6fbad",
   "metadata": {
    "hide-output": false
   },
   "outputs": [
    {
     "data": {
      "text/html": [
       "<div>\n",
       "<style scoped>\n",
       "    .dataframe tbody tr th:only-of-type {\n",
       "        vertical-align: middle;\n",
       "    }\n",
       "\n",
       "    .dataframe tbody tr th {\n",
       "        vertical-align: top;\n",
       "    }\n",
       "\n",
       "    .dataframe thead th {\n",
       "        text-align: right;\n",
       "    }\n",
       "</style>\n",
       "<table border=\"1\" class=\"dataframe\">\n",
       "  <thead>\n",
       "    <tr style=\"text-align: right;\">\n",
       "      <th></th>\n",
       "      <th>country</th>\n",
       "      <th>country isocode</th>\n",
       "      <th>year</th>\n",
       "      <th>POP</th>\n",
       "      <th>XRAT</th>\n",
       "      <th>tcgdp</th>\n",
       "      <th>cc</th>\n",
       "      <th>cg</th>\n",
       "    </tr>\n",
       "  </thead>\n",
       "  <tbody>\n",
       "    <tr>\n",
       "      <th>2</th>\n",
       "      <td>India</td>\n",
       "      <td>IND</td>\n",
       "      <td>2000</td>\n",
       "      <td>1006300.297</td>\n",
       "      <td>44.941600</td>\n",
       "      <td>1.728144e+06</td>\n",
       "      <td>64.575551</td>\n",
       "      <td>14.072206</td>\n",
       "    </tr>\n",
       "    <tr>\n",
       "      <th>3</th>\n",
       "      <td>Israel</td>\n",
       "      <td>ISR</td>\n",
       "      <td>2000</td>\n",
       "      <td>6114.570</td>\n",
       "      <td>4.077330</td>\n",
       "      <td>1.292539e+05</td>\n",
       "      <td>64.436451</td>\n",
       "      <td>10.266688</td>\n",
       "    </tr>\n",
       "    <tr>\n",
       "      <th>4</th>\n",
       "      <td>Malawi</td>\n",
       "      <td>MWI</td>\n",
       "      <td>2000</td>\n",
       "      <td>11801.505</td>\n",
       "      <td>59.543808</td>\n",
       "      <td>5.026222e+03</td>\n",
       "      <td>74.707624</td>\n",
       "      <td>11.658954</td>\n",
       "    </tr>\n",
       "  </tbody>\n",
       "</table>\n",
       "</div>"
      ],
      "text/plain": [
       "  country country isocode  year          POP       XRAT         tcgdp  \\\n",
       "2   India             IND  2000  1006300.297  44.941600  1.728144e+06   \n",
       "3  Israel             ISR  2000     6114.570   4.077330  1.292539e+05   \n",
       "4  Malawi             MWI  2000    11801.505  59.543808  5.026222e+03   \n",
       "\n",
       "          cc         cg  \n",
       "2  64.575551  14.072206  \n",
       "3  64.436451  10.266688  \n",
       "4  74.707624  11.658954  "
      ]
     },
     "execution_count": 13,
     "metadata": {},
     "output_type": "execute_result"
    }
   ],
   "source": [
    "df[2:5]"
   ]
  },
  {
   "cell_type": "markdown",
   "id": "48957e52",
   "metadata": {},
   "source": [
    "To select columns, we can pass a list containing the names of the desired columns represented as strings"
   ]
  },
  {
   "cell_type": "code",
   "execution_count": 14,
   "id": "567acb71",
   "metadata": {
    "hide-output": false
   },
   "outputs": [
    {
     "data": {
      "text/html": [
       "<div>\n",
       "<style scoped>\n",
       "    .dataframe tbody tr th:only-of-type {\n",
       "        vertical-align: middle;\n",
       "    }\n",
       "\n",
       "    .dataframe tbody tr th {\n",
       "        vertical-align: top;\n",
       "    }\n",
       "\n",
       "    .dataframe thead th {\n",
       "        text-align: right;\n",
       "    }\n",
       "</style>\n",
       "<table border=\"1\" class=\"dataframe\">\n",
       "  <thead>\n",
       "    <tr style=\"text-align: right;\">\n",
       "      <th></th>\n",
       "      <th>country</th>\n",
       "      <th>tcgdp</th>\n",
       "    </tr>\n",
       "  </thead>\n",
       "  <tbody>\n",
       "    <tr>\n",
       "      <th>0</th>\n",
       "      <td>Argentina</td>\n",
       "      <td>2.950722e+05</td>\n",
       "    </tr>\n",
       "    <tr>\n",
       "      <th>1</th>\n",
       "      <td>Australia</td>\n",
       "      <td>5.418047e+05</td>\n",
       "    </tr>\n",
       "    <tr>\n",
       "      <th>2</th>\n",
       "      <td>India</td>\n",
       "      <td>1.728144e+06</td>\n",
       "    </tr>\n",
       "    <tr>\n",
       "      <th>3</th>\n",
       "      <td>Israel</td>\n",
       "      <td>1.292539e+05</td>\n",
       "    </tr>\n",
       "    <tr>\n",
       "      <th>4</th>\n",
       "      <td>Malawi</td>\n",
       "      <td>5.026222e+03</td>\n",
       "    </tr>\n",
       "    <tr>\n",
       "      <th>5</th>\n",
       "      <td>South Africa</td>\n",
       "      <td>2.272424e+05</td>\n",
       "    </tr>\n",
       "    <tr>\n",
       "      <th>6</th>\n",
       "      <td>United States</td>\n",
       "      <td>9.898700e+06</td>\n",
       "    </tr>\n",
       "    <tr>\n",
       "      <th>7</th>\n",
       "      <td>Uruguay</td>\n",
       "      <td>2.525596e+04</td>\n",
       "    </tr>\n",
       "  </tbody>\n",
       "</table>\n",
       "</div>"
      ],
      "text/plain": [
       "         country         tcgdp\n",
       "0      Argentina  2.950722e+05\n",
       "1      Australia  5.418047e+05\n",
       "2          India  1.728144e+06\n",
       "3         Israel  1.292539e+05\n",
       "4         Malawi  5.026222e+03\n",
       "5   South Africa  2.272424e+05\n",
       "6  United States  9.898700e+06\n",
       "7        Uruguay  2.525596e+04"
      ]
     },
     "execution_count": 14,
     "metadata": {},
     "output_type": "execute_result"
    }
   ],
   "source": [
    "df[['country', 'tcgdp']]"
   ]
  },
  {
   "cell_type": "markdown",
   "id": "ff11625b",
   "metadata": {},
   "source": [
    "To select both rows and columns using integers, the `iloc` attribute should be used with the format `.iloc[rows, columns]`."
   ]
  },
  {
   "cell_type": "code",
   "execution_count": 15,
   "id": "1bb0c5fd",
   "metadata": {
    "hide-output": false
   },
   "outputs": [
    {
     "data": {
      "text/html": [
       "<div>\n",
       "<style scoped>\n",
       "    .dataframe tbody tr th:only-of-type {\n",
       "        vertical-align: middle;\n",
       "    }\n",
       "\n",
       "    .dataframe tbody tr th {\n",
       "        vertical-align: top;\n",
       "    }\n",
       "\n",
       "    .dataframe thead th {\n",
       "        text-align: right;\n",
       "    }\n",
       "</style>\n",
       "<table border=\"1\" class=\"dataframe\">\n",
       "  <thead>\n",
       "    <tr style=\"text-align: right;\">\n",
       "      <th></th>\n",
       "      <th>country</th>\n",
       "      <th>country isocode</th>\n",
       "      <th>year</th>\n",
       "      <th>POP</th>\n",
       "    </tr>\n",
       "  </thead>\n",
       "  <tbody>\n",
       "    <tr>\n",
       "      <th>2</th>\n",
       "      <td>India</td>\n",
       "      <td>IND</td>\n",
       "      <td>2000</td>\n",
       "      <td>1006300.297</td>\n",
       "    </tr>\n",
       "    <tr>\n",
       "      <th>3</th>\n",
       "      <td>Israel</td>\n",
       "      <td>ISR</td>\n",
       "      <td>2000</td>\n",
       "      <td>6114.570</td>\n",
       "    </tr>\n",
       "    <tr>\n",
       "      <th>4</th>\n",
       "      <td>Malawi</td>\n",
       "      <td>MWI</td>\n",
       "      <td>2000</td>\n",
       "      <td>11801.505</td>\n",
       "    </tr>\n",
       "  </tbody>\n",
       "</table>\n",
       "</div>"
      ],
      "text/plain": [
       "  country country isocode  year          POP\n",
       "2   India             IND  2000  1006300.297\n",
       "3  Israel             ISR  2000     6114.570\n",
       "4  Malawi             MWI  2000    11801.505"
      ]
     },
     "execution_count": 15,
     "metadata": {},
     "output_type": "execute_result"
    }
   ],
   "source": [
    "df.iloc[2:5, 0:4]"
   ]
  },
  {
   "cell_type": "markdown",
   "id": "78a957a5",
   "metadata": {},
   "source": [
    "To select rows and columns using a mixture of integers and labels, the `loc` attribute can be used in a similar way"
   ]
  },
  {
   "cell_type": "code",
   "execution_count": 16,
   "id": "a53b6847",
   "metadata": {
    "hide-output": false
   },
   "outputs": [
    {
     "data": {
      "text/html": [
       "<div>\n",
       "<style scoped>\n",
       "    .dataframe tbody tr th:only-of-type {\n",
       "        vertical-align: middle;\n",
       "    }\n",
       "\n",
       "    .dataframe tbody tr th {\n",
       "        vertical-align: top;\n",
       "    }\n",
       "\n",
       "    .dataframe thead th {\n",
       "        text-align: right;\n",
       "    }\n",
       "</style>\n",
       "<table border=\"1\" class=\"dataframe\">\n",
       "  <thead>\n",
       "    <tr style=\"text-align: right;\">\n",
       "      <th></th>\n",
       "      <th>country</th>\n",
       "      <th>tcgdp</th>\n",
       "    </tr>\n",
       "  </thead>\n",
       "  <tbody>\n",
       "    <tr>\n",
       "      <th>2</th>\n",
       "      <td>India</td>\n",
       "      <td>1.728144e+06</td>\n",
       "    </tr>\n",
       "    <tr>\n",
       "      <th>3</th>\n",
       "      <td>Israel</td>\n",
       "      <td>1.292539e+05</td>\n",
       "    </tr>\n",
       "    <tr>\n",
       "      <th>4</th>\n",
       "      <td>Malawi</td>\n",
       "      <td>5.026222e+03</td>\n",
       "    </tr>\n",
       "  </tbody>\n",
       "</table>\n",
       "</div>"
      ],
      "text/plain": [
       "  country         tcgdp\n",
       "2   India  1.728144e+06\n",
       "3  Israel  1.292539e+05\n",
       "4  Malawi  5.026222e+03"
      ]
     },
     "execution_count": 16,
     "metadata": {},
     "output_type": "execute_result"
    }
   ],
   "source": [
    "df.loc[df.index[2:5], ['country', 'tcgdp']]"
   ]
  },
  {
   "cell_type": "markdown",
   "id": "df3962b0",
   "metadata": {},
   "source": [
    "### Select Data by Conditions\n",
    "\n",
    "Instead of indexing rows and columns using integers and names, we can also obtain a sub-dataframe of our interests that satisfies certain (potentially complicated) conditions.\n",
    "\n",
    "This section demonstrates various ways to do that.\n",
    "\n",
    "The most straightforward way is with the `[]` operator."
   ]
  },
  {
   "cell_type": "code",
   "execution_count": 17,
   "id": "7edf15be",
   "metadata": {
    "hide-output": false
   },
   "outputs": [
    {
     "data": {
      "text/html": [
       "<div>\n",
       "<style scoped>\n",
       "    .dataframe tbody tr th:only-of-type {\n",
       "        vertical-align: middle;\n",
       "    }\n",
       "\n",
       "    .dataframe tbody tr th {\n",
       "        vertical-align: top;\n",
       "    }\n",
       "\n",
       "    .dataframe thead th {\n",
       "        text-align: right;\n",
       "    }\n",
       "</style>\n",
       "<table border=\"1\" class=\"dataframe\">\n",
       "  <thead>\n",
       "    <tr style=\"text-align: right;\">\n",
       "      <th></th>\n",
       "      <th>country</th>\n",
       "      <th>country isocode</th>\n",
       "      <th>year</th>\n",
       "      <th>POP</th>\n",
       "      <th>XRAT</th>\n",
       "      <th>tcgdp</th>\n",
       "      <th>cc</th>\n",
       "      <th>cg</th>\n",
       "    </tr>\n",
       "  </thead>\n",
       "  <tbody>\n",
       "    <tr>\n",
       "      <th>0</th>\n",
       "      <td>Argentina</td>\n",
       "      <td>ARG</td>\n",
       "      <td>2000</td>\n",
       "      <td>37335.653</td>\n",
       "      <td>0.99950</td>\n",
       "      <td>2.950722e+05</td>\n",
       "      <td>75.716805</td>\n",
       "      <td>5.578804</td>\n",
       "    </tr>\n",
       "    <tr>\n",
       "      <th>2</th>\n",
       "      <td>India</td>\n",
       "      <td>IND</td>\n",
       "      <td>2000</td>\n",
       "      <td>1006300.297</td>\n",
       "      <td>44.94160</td>\n",
       "      <td>1.728144e+06</td>\n",
       "      <td>64.575551</td>\n",
       "      <td>14.072206</td>\n",
       "    </tr>\n",
       "    <tr>\n",
       "      <th>5</th>\n",
       "      <td>South Africa</td>\n",
       "      <td>ZAF</td>\n",
       "      <td>2000</td>\n",
       "      <td>45064.098</td>\n",
       "      <td>6.93983</td>\n",
       "      <td>2.272424e+05</td>\n",
       "      <td>72.718710</td>\n",
       "      <td>5.726546</td>\n",
       "    </tr>\n",
       "    <tr>\n",
       "      <th>6</th>\n",
       "      <td>United States</td>\n",
       "      <td>USA</td>\n",
       "      <td>2000</td>\n",
       "      <td>282171.957</td>\n",
       "      <td>1.00000</td>\n",
       "      <td>9.898700e+06</td>\n",
       "      <td>72.347054</td>\n",
       "      <td>6.032454</td>\n",
       "    </tr>\n",
       "  </tbody>\n",
       "</table>\n",
       "</div>"
      ],
      "text/plain": [
       "         country country isocode  year          POP      XRAT         tcgdp  \\\n",
       "0      Argentina             ARG  2000    37335.653   0.99950  2.950722e+05   \n",
       "2          India             IND  2000  1006300.297  44.94160  1.728144e+06   \n",
       "5   South Africa             ZAF  2000    45064.098   6.93983  2.272424e+05   \n",
       "6  United States             USA  2000   282171.957   1.00000  9.898700e+06   \n",
       "\n",
       "          cc         cg  \n",
       "0  75.716805   5.578804  \n",
       "2  64.575551  14.072206  \n",
       "5  72.718710   5.726546  \n",
       "6  72.347054   6.032454  "
      ]
     },
     "execution_count": 17,
     "metadata": {},
     "output_type": "execute_result"
    }
   ],
   "source": [
    "df[df.POP >= 20000]"
   ]
  },
  {
   "cell_type": "markdown",
   "id": "588b4991",
   "metadata": {},
   "source": [
    "To understand what is going on here, notice that `df.POP >= 20000` returns a series of boolean values."
   ]
  },
  {
   "cell_type": "code",
   "execution_count": 18,
   "id": "11c0bdbb",
   "metadata": {
    "hide-output": false
   },
   "outputs": [
    {
     "data": {
      "text/plain": [
       "0     True\n",
       "1    False\n",
       "2     True\n",
       "3    False\n",
       "4    False\n",
       "5     True\n",
       "6     True\n",
       "7    False\n",
       "Name: POP, dtype: bool"
      ]
     },
     "execution_count": 18,
     "metadata": {},
     "output_type": "execute_result"
    }
   ],
   "source": [
    "df.POP >= 20000"
   ]
  },
  {
   "cell_type": "markdown",
   "id": "4048ae1b",
   "metadata": {},
   "source": [
    "In this case, `df[___]` takes a series of boolean values and only returns rows with the `True` values.\n",
    "\n",
    "Take one more example,"
   ]
  },
  {
   "cell_type": "code",
   "execution_count": 19,
   "id": "72821214",
   "metadata": {
    "hide-output": false
   },
   "outputs": [
    {
     "data": {
      "text/html": [
       "<div>\n",
       "<style scoped>\n",
       "    .dataframe tbody tr th:only-of-type {\n",
       "        vertical-align: middle;\n",
       "    }\n",
       "\n",
       "    .dataframe tbody tr th {\n",
       "        vertical-align: top;\n",
       "    }\n",
       "\n",
       "    .dataframe thead th {\n",
       "        text-align: right;\n",
       "    }\n",
       "</style>\n",
       "<table border=\"1\" class=\"dataframe\">\n",
       "  <thead>\n",
       "    <tr style=\"text-align: right;\">\n",
       "      <th></th>\n",
       "      <th>country</th>\n",
       "      <th>country isocode</th>\n",
       "      <th>year</th>\n",
       "      <th>POP</th>\n",
       "      <th>XRAT</th>\n",
       "      <th>tcgdp</th>\n",
       "      <th>cc</th>\n",
       "      <th>cg</th>\n",
       "    </tr>\n",
       "  </thead>\n",
       "  <tbody>\n",
       "    <tr>\n",
       "      <th>2</th>\n",
       "      <td>India</td>\n",
       "      <td>IND</td>\n",
       "      <td>2000</td>\n",
       "      <td>1006300.297</td>\n",
       "      <td>44.94160</td>\n",
       "      <td>1.728144e+06</td>\n",
       "      <td>64.575551</td>\n",
       "      <td>14.072206</td>\n",
       "    </tr>\n",
       "    <tr>\n",
       "      <th>5</th>\n",
       "      <td>South Africa</td>\n",
       "      <td>ZAF</td>\n",
       "      <td>2000</td>\n",
       "      <td>45064.098</td>\n",
       "      <td>6.93983</td>\n",
       "      <td>2.272424e+05</td>\n",
       "      <td>72.718710</td>\n",
       "      <td>5.726546</td>\n",
       "    </tr>\n",
       "  </tbody>\n",
       "</table>\n",
       "</div>"
      ],
      "text/plain": [
       "        country country isocode  year          POP      XRAT         tcgdp  \\\n",
       "2         India             IND  2000  1006300.297  44.94160  1.728144e+06   \n",
       "5  South Africa             ZAF  2000    45064.098   6.93983  2.272424e+05   \n",
       "\n",
       "          cc         cg  \n",
       "2  64.575551  14.072206  \n",
       "5  72.718710   5.726546  "
      ]
     },
     "execution_count": 19,
     "metadata": {},
     "output_type": "execute_result"
    }
   ],
   "source": [
    "df[(df.country.isin(['Argentina', 'India', 'South Africa'])) & (df.POP > 40000)]"
   ]
  },
  {
   "cell_type": "markdown",
   "id": "3a709eb4",
   "metadata": {},
   "source": [
    "However, there is another way of doing the same thing, which can be slightly faster for large dataframes, with more natural syntax."
   ]
  },
  {
   "cell_type": "code",
   "execution_count": 20,
   "id": "9fe2c9af",
   "metadata": {
    "hide-output": false
   },
   "outputs": [
    {
     "data": {
      "text/html": [
       "<div>\n",
       "<style scoped>\n",
       "    .dataframe tbody tr th:only-of-type {\n",
       "        vertical-align: middle;\n",
       "    }\n",
       "\n",
       "    .dataframe tbody tr th {\n",
       "        vertical-align: top;\n",
       "    }\n",
       "\n",
       "    .dataframe thead th {\n",
       "        text-align: right;\n",
       "    }\n",
       "</style>\n",
       "<table border=\"1\" class=\"dataframe\">\n",
       "  <thead>\n",
       "    <tr style=\"text-align: right;\">\n",
       "      <th></th>\n",
       "      <th>country</th>\n",
       "      <th>country isocode</th>\n",
       "      <th>year</th>\n",
       "      <th>POP</th>\n",
       "      <th>XRAT</th>\n",
       "      <th>tcgdp</th>\n",
       "      <th>cc</th>\n",
       "      <th>cg</th>\n",
       "    </tr>\n",
       "  </thead>\n",
       "  <tbody>\n",
       "    <tr>\n",
       "      <th>0</th>\n",
       "      <td>Argentina</td>\n",
       "      <td>ARG</td>\n",
       "      <td>2000</td>\n",
       "      <td>37335.653</td>\n",
       "      <td>0.99950</td>\n",
       "      <td>2.950722e+05</td>\n",
       "      <td>75.716805</td>\n",
       "      <td>5.578804</td>\n",
       "    </tr>\n",
       "    <tr>\n",
       "      <th>2</th>\n",
       "      <td>India</td>\n",
       "      <td>IND</td>\n",
       "      <td>2000</td>\n",
       "      <td>1006300.297</td>\n",
       "      <td>44.94160</td>\n",
       "      <td>1.728144e+06</td>\n",
       "      <td>64.575551</td>\n",
       "      <td>14.072206</td>\n",
       "    </tr>\n",
       "    <tr>\n",
       "      <th>5</th>\n",
       "      <td>South Africa</td>\n",
       "      <td>ZAF</td>\n",
       "      <td>2000</td>\n",
       "      <td>45064.098</td>\n",
       "      <td>6.93983</td>\n",
       "      <td>2.272424e+05</td>\n",
       "      <td>72.718710</td>\n",
       "      <td>5.726546</td>\n",
       "    </tr>\n",
       "    <tr>\n",
       "      <th>6</th>\n",
       "      <td>United States</td>\n",
       "      <td>USA</td>\n",
       "      <td>2000</td>\n",
       "      <td>282171.957</td>\n",
       "      <td>1.00000</td>\n",
       "      <td>9.898700e+06</td>\n",
       "      <td>72.347054</td>\n",
       "      <td>6.032454</td>\n",
       "    </tr>\n",
       "  </tbody>\n",
       "</table>\n",
       "</div>"
      ],
      "text/plain": [
       "         country country isocode  year          POP      XRAT         tcgdp  \\\n",
       "0      Argentina             ARG  2000    37335.653   0.99950  2.950722e+05   \n",
       "2          India             IND  2000  1006300.297  44.94160  1.728144e+06   \n",
       "5   South Africa             ZAF  2000    45064.098   6.93983  2.272424e+05   \n",
       "6  United States             USA  2000   282171.957   1.00000  9.898700e+06   \n",
       "\n",
       "          cc         cg  \n",
       "0  75.716805   5.578804  \n",
       "2  64.575551  14.072206  \n",
       "5  72.718710   5.726546  \n",
       "6  72.347054   6.032454  "
      ]
     },
     "execution_count": 20,
     "metadata": {},
     "output_type": "execute_result"
    }
   ],
   "source": [
    "# the above is equivalent to \n",
    "df.query(\"POP >= 20000\")"
   ]
  },
  {
   "cell_type": "code",
   "execution_count": 21,
   "id": "de55cced",
   "metadata": {
    "hide-output": false
   },
   "outputs": [
    {
     "data": {
      "text/html": [
       "<div>\n",
       "<style scoped>\n",
       "    .dataframe tbody tr th:only-of-type {\n",
       "        vertical-align: middle;\n",
       "    }\n",
       "\n",
       "    .dataframe tbody tr th {\n",
       "        vertical-align: top;\n",
       "    }\n",
       "\n",
       "    .dataframe thead th {\n",
       "        text-align: right;\n",
       "    }\n",
       "</style>\n",
       "<table border=\"1\" class=\"dataframe\">\n",
       "  <thead>\n",
       "    <tr style=\"text-align: right;\">\n",
       "      <th></th>\n",
       "      <th>country</th>\n",
       "      <th>country isocode</th>\n",
       "      <th>year</th>\n",
       "      <th>POP</th>\n",
       "      <th>XRAT</th>\n",
       "      <th>tcgdp</th>\n",
       "      <th>cc</th>\n",
       "      <th>cg</th>\n",
       "    </tr>\n",
       "  </thead>\n",
       "  <tbody>\n",
       "    <tr>\n",
       "      <th>2</th>\n",
       "      <td>India</td>\n",
       "      <td>IND</td>\n",
       "      <td>2000</td>\n",
       "      <td>1006300.297</td>\n",
       "      <td>44.94160</td>\n",
       "      <td>1.728144e+06</td>\n",
       "      <td>64.575551</td>\n",
       "      <td>14.072206</td>\n",
       "    </tr>\n",
       "    <tr>\n",
       "      <th>5</th>\n",
       "      <td>South Africa</td>\n",
       "      <td>ZAF</td>\n",
       "      <td>2000</td>\n",
       "      <td>45064.098</td>\n",
       "      <td>6.93983</td>\n",
       "      <td>2.272424e+05</td>\n",
       "      <td>72.718710</td>\n",
       "      <td>5.726546</td>\n",
       "    </tr>\n",
       "  </tbody>\n",
       "</table>\n",
       "</div>"
      ],
      "text/plain": [
       "        country country isocode  year          POP      XRAT         tcgdp  \\\n",
       "2         India             IND  2000  1006300.297  44.94160  1.728144e+06   \n",
       "5  South Africa             ZAF  2000    45064.098   6.93983  2.272424e+05   \n",
       "\n",
       "          cc         cg  \n",
       "2  64.575551  14.072206  \n",
       "5  72.718710   5.726546  "
      ]
     },
     "execution_count": 21,
     "metadata": {},
     "output_type": "execute_result"
    }
   ],
   "source": [
    "df.query(\"country in ['Argentina', 'India', 'South Africa'] and POP > 40000\")"
   ]
  },
  {
   "cell_type": "markdown",
   "id": "261c03db",
   "metadata": {},
   "source": [
    "We can also allow arithmetic operations between different columns."
   ]
  },
  {
   "cell_type": "code",
   "execution_count": 22,
   "id": "eacdf16d",
   "metadata": {
    "hide-output": false
   },
   "outputs": [
    {
     "data": {
      "text/html": [
       "<div>\n",
       "<style scoped>\n",
       "    .dataframe tbody tr th:only-of-type {\n",
       "        vertical-align: middle;\n",
       "    }\n",
       "\n",
       "    .dataframe tbody tr th {\n",
       "        vertical-align: top;\n",
       "    }\n",
       "\n",
       "    .dataframe thead th {\n",
       "        text-align: right;\n",
       "    }\n",
       "</style>\n",
       "<table border=\"1\" class=\"dataframe\">\n",
       "  <thead>\n",
       "    <tr style=\"text-align: right;\">\n",
       "      <th></th>\n",
       "      <th>country</th>\n",
       "      <th>country isocode</th>\n",
       "      <th>year</th>\n",
       "      <th>POP</th>\n",
       "      <th>XRAT</th>\n",
       "      <th>tcgdp</th>\n",
       "      <th>cc</th>\n",
       "      <th>cg</th>\n",
       "    </tr>\n",
       "  </thead>\n",
       "  <tbody>\n",
       "    <tr>\n",
       "      <th>4</th>\n",
       "      <td>Malawi</td>\n",
       "      <td>MWI</td>\n",
       "      <td>2000</td>\n",
       "      <td>11801.505</td>\n",
       "      <td>59.543808</td>\n",
       "      <td>5026.221784</td>\n",
       "      <td>74.707624</td>\n",
       "      <td>11.658954</td>\n",
       "    </tr>\n",
       "    <tr>\n",
       "      <th>7</th>\n",
       "      <td>Uruguay</td>\n",
       "      <td>URY</td>\n",
       "      <td>2000</td>\n",
       "      <td>3219.793</td>\n",
       "      <td>12.099592</td>\n",
       "      <td>25255.961693</td>\n",
       "      <td>78.978740</td>\n",
       "      <td>5.108068</td>\n",
       "    </tr>\n",
       "  </tbody>\n",
       "</table>\n",
       "</div>"
      ],
      "text/plain": [
       "   country country isocode  year        POP       XRAT         tcgdp  \\\n",
       "4   Malawi             MWI  2000  11801.505  59.543808   5026.221784   \n",
       "7  Uruguay             URY  2000   3219.793  12.099592  25255.961693   \n",
       "\n",
       "          cc         cg  \n",
       "4  74.707624  11.658954  \n",
       "7  78.978740   5.108068  "
      ]
     },
     "execution_count": 22,
     "metadata": {},
     "output_type": "execute_result"
    }
   ],
   "source": [
    "df[(df.cc + df.cg >= 80) & (df.POP <= 20000)]"
   ]
  },
  {
   "cell_type": "code",
   "execution_count": 23,
   "id": "536796c0",
   "metadata": {
    "hide-output": false
   },
   "outputs": [
    {
     "data": {
      "text/html": [
       "<div>\n",
       "<style scoped>\n",
       "    .dataframe tbody tr th:only-of-type {\n",
       "        vertical-align: middle;\n",
       "    }\n",
       "\n",
       "    .dataframe tbody tr th {\n",
       "        vertical-align: top;\n",
       "    }\n",
       "\n",
       "    .dataframe thead th {\n",
       "        text-align: right;\n",
       "    }\n",
       "</style>\n",
       "<table border=\"1\" class=\"dataframe\">\n",
       "  <thead>\n",
       "    <tr style=\"text-align: right;\">\n",
       "      <th></th>\n",
       "      <th>country</th>\n",
       "      <th>country isocode</th>\n",
       "      <th>year</th>\n",
       "      <th>POP</th>\n",
       "      <th>XRAT</th>\n",
       "      <th>tcgdp</th>\n",
       "      <th>cc</th>\n",
       "      <th>cg</th>\n",
       "    </tr>\n",
       "  </thead>\n",
       "  <tbody>\n",
       "    <tr>\n",
       "      <th>4</th>\n",
       "      <td>Malawi</td>\n",
       "      <td>MWI</td>\n",
       "      <td>2000</td>\n",
       "      <td>11801.505</td>\n",
       "      <td>59.543808</td>\n",
       "      <td>5026.221784</td>\n",
       "      <td>74.707624</td>\n",
       "      <td>11.658954</td>\n",
       "    </tr>\n",
       "    <tr>\n",
       "      <th>7</th>\n",
       "      <td>Uruguay</td>\n",
       "      <td>URY</td>\n",
       "      <td>2000</td>\n",
       "      <td>3219.793</td>\n",
       "      <td>12.099592</td>\n",
       "      <td>25255.961693</td>\n",
       "      <td>78.978740</td>\n",
       "      <td>5.108068</td>\n",
       "    </tr>\n",
       "  </tbody>\n",
       "</table>\n",
       "</div>"
      ],
      "text/plain": [
       "   country country isocode  year        POP       XRAT         tcgdp  \\\n",
       "4   Malawi             MWI  2000  11801.505  59.543808   5026.221784   \n",
       "7  Uruguay             URY  2000   3219.793  12.099592  25255.961693   \n",
       "\n",
       "          cc         cg  \n",
       "4  74.707624  11.658954  \n",
       "7  78.978740   5.108068  "
      ]
     },
     "execution_count": 23,
     "metadata": {},
     "output_type": "execute_result"
    }
   ],
   "source": [
    "# the above is equivalent to \n",
    "df.query(\"cc + cg >= 80 & POP <= 20000\")"
   ]
  },
  {
   "cell_type": "markdown",
   "id": "20fb5a06",
   "metadata": {},
   "source": [
    "For example, we can use the conditioning to select the country with the largest household consumption - gdp share `cc`."
   ]
  },
  {
   "cell_type": "code",
   "execution_count": 24,
   "id": "a3a554f1",
   "metadata": {
    "hide-output": false
   },
   "outputs": [
    {
     "data": {
      "text/html": [
       "<div>\n",
       "<style scoped>\n",
       "    .dataframe tbody tr th:only-of-type {\n",
       "        vertical-align: middle;\n",
       "    }\n",
       "\n",
       "    .dataframe tbody tr th {\n",
       "        vertical-align: top;\n",
       "    }\n",
       "\n",
       "    .dataframe thead th {\n",
       "        text-align: right;\n",
       "    }\n",
       "</style>\n",
       "<table border=\"1\" class=\"dataframe\">\n",
       "  <thead>\n",
       "    <tr style=\"text-align: right;\">\n",
       "      <th></th>\n",
       "      <th>country</th>\n",
       "      <th>country isocode</th>\n",
       "      <th>year</th>\n",
       "      <th>POP</th>\n",
       "      <th>XRAT</th>\n",
       "      <th>tcgdp</th>\n",
       "      <th>cc</th>\n",
       "      <th>cg</th>\n",
       "    </tr>\n",
       "  </thead>\n",
       "  <tbody>\n",
       "    <tr>\n",
       "      <th>7</th>\n",
       "      <td>Uruguay</td>\n",
       "      <td>URY</td>\n",
       "      <td>2000</td>\n",
       "      <td>3219.793</td>\n",
       "      <td>12.099592</td>\n",
       "      <td>25255.961693</td>\n",
       "      <td>78.97874</td>\n",
       "      <td>5.108068</td>\n",
       "    </tr>\n",
       "  </tbody>\n",
       "</table>\n",
       "</div>"
      ],
      "text/plain": [
       "   country country isocode  year       POP       XRAT         tcgdp        cc  \\\n",
       "7  Uruguay             URY  2000  3219.793  12.099592  25255.961693  78.97874   \n",
       "\n",
       "         cg  \n",
       "7  5.108068  "
      ]
     },
     "execution_count": 24,
     "metadata": {},
     "output_type": "execute_result"
    }
   ],
   "source": [
    "df.loc[df.cc == max(df.cc)]"
   ]
  },
  {
   "cell_type": "markdown",
   "id": "bcec9f04",
   "metadata": {},
   "source": [
    "When we only want to look at certain columns of a selected sub-dataframe, we can use the above conditions with the `.loc[__ , __]` command.\n",
    "\n",
    "The first argument takes the condition, while the second argument takes a list of columns we want to return."
   ]
  },
  {
   "cell_type": "code",
   "execution_count": 25,
   "id": "aea99908",
   "metadata": {
    "hide-output": false
   },
   "outputs": [
    {
     "data": {
      "text/html": [
       "<div>\n",
       "<style scoped>\n",
       "    .dataframe tbody tr th:only-of-type {\n",
       "        vertical-align: middle;\n",
       "    }\n",
       "\n",
       "    .dataframe tbody tr th {\n",
       "        vertical-align: top;\n",
       "    }\n",
       "\n",
       "    .dataframe thead th {\n",
       "        text-align: right;\n",
       "    }\n",
       "</style>\n",
       "<table border=\"1\" class=\"dataframe\">\n",
       "  <thead>\n",
       "    <tr style=\"text-align: right;\">\n",
       "      <th></th>\n",
       "      <th>country</th>\n",
       "      <th>year</th>\n",
       "      <th>POP</th>\n",
       "    </tr>\n",
       "  </thead>\n",
       "  <tbody>\n",
       "    <tr>\n",
       "      <th>4</th>\n",
       "      <td>Malawi</td>\n",
       "      <td>2000</td>\n",
       "      <td>11801.505</td>\n",
       "    </tr>\n",
       "    <tr>\n",
       "      <th>7</th>\n",
       "      <td>Uruguay</td>\n",
       "      <td>2000</td>\n",
       "      <td>3219.793</td>\n",
       "    </tr>\n",
       "  </tbody>\n",
       "</table>\n",
       "</div>"
      ],
      "text/plain": [
       "   country  year        POP\n",
       "4   Malawi  2000  11801.505\n",
       "7  Uruguay  2000   3219.793"
      ]
     },
     "execution_count": 25,
     "metadata": {},
     "output_type": "execute_result"
    }
   ],
   "source": [
    "df.loc[(df.cc + df.cg >= 80) & (df.POP <= 20000), ['country', 'year', 'POP']]"
   ]
  },
  {
   "cell_type": "markdown",
   "id": "718f812f",
   "metadata": {},
   "source": [
    "**Application: Subsetting Dataframe**\n",
    "\n",
    "Real-world datasets can be [enormous](https://developers.google.com/machine-learning/data-prep/construct/collect/data-size-quality).\n",
    "\n",
    "It is sometimes desirable to work with a subset of data to enhance computational efficiency and reduce redundancy.\n",
    "\n",
    "Let’s imagine that we’re only interested in the population (`POP`) and total GDP (`tcgdp`).\n",
    "\n",
    "One way to strip the data frame `df` down to only these variables is to overwrite the dataframe using the selection method described above"
   ]
  },
  {
   "cell_type": "code",
   "execution_count": 26,
   "id": "618a81a0",
   "metadata": {
    "hide-output": false
   },
   "outputs": [
    {
     "data": {
      "text/html": [
       "<div>\n",
       "<style scoped>\n",
       "    .dataframe tbody tr th:only-of-type {\n",
       "        vertical-align: middle;\n",
       "    }\n",
       "\n",
       "    .dataframe tbody tr th {\n",
       "        vertical-align: top;\n",
       "    }\n",
       "\n",
       "    .dataframe thead th {\n",
       "        text-align: right;\n",
       "    }\n",
       "</style>\n",
       "<table border=\"1\" class=\"dataframe\">\n",
       "  <thead>\n",
       "    <tr style=\"text-align: right;\">\n",
       "      <th></th>\n",
       "      <th>country</th>\n",
       "      <th>POP</th>\n",
       "      <th>tcgdp</th>\n",
       "    </tr>\n",
       "  </thead>\n",
       "  <tbody>\n",
       "    <tr>\n",
       "      <th>0</th>\n",
       "      <td>Argentina</td>\n",
       "      <td>37335.653</td>\n",
       "      <td>2.950722e+05</td>\n",
       "    </tr>\n",
       "    <tr>\n",
       "      <th>1</th>\n",
       "      <td>Australia</td>\n",
       "      <td>19053.186</td>\n",
       "      <td>5.418047e+05</td>\n",
       "    </tr>\n",
       "    <tr>\n",
       "      <th>2</th>\n",
       "      <td>India</td>\n",
       "      <td>1006300.297</td>\n",
       "      <td>1.728144e+06</td>\n",
       "    </tr>\n",
       "    <tr>\n",
       "      <th>3</th>\n",
       "      <td>Israel</td>\n",
       "      <td>6114.570</td>\n",
       "      <td>1.292539e+05</td>\n",
       "    </tr>\n",
       "    <tr>\n",
       "      <th>4</th>\n",
       "      <td>Malawi</td>\n",
       "      <td>11801.505</td>\n",
       "      <td>5.026222e+03</td>\n",
       "    </tr>\n",
       "    <tr>\n",
       "      <th>5</th>\n",
       "      <td>South Africa</td>\n",
       "      <td>45064.098</td>\n",
       "      <td>2.272424e+05</td>\n",
       "    </tr>\n",
       "    <tr>\n",
       "      <th>6</th>\n",
       "      <td>United States</td>\n",
       "      <td>282171.957</td>\n",
       "      <td>9.898700e+06</td>\n",
       "    </tr>\n",
       "    <tr>\n",
       "      <th>7</th>\n",
       "      <td>Uruguay</td>\n",
       "      <td>3219.793</td>\n",
       "      <td>2.525596e+04</td>\n",
       "    </tr>\n",
       "  </tbody>\n",
       "</table>\n",
       "</div>"
      ],
      "text/plain": [
       "         country          POP         tcgdp\n",
       "0      Argentina    37335.653  2.950722e+05\n",
       "1      Australia    19053.186  5.418047e+05\n",
       "2          India  1006300.297  1.728144e+06\n",
       "3         Israel     6114.570  1.292539e+05\n",
       "4         Malawi    11801.505  5.026222e+03\n",
       "5   South Africa    45064.098  2.272424e+05\n",
       "6  United States   282171.957  9.898700e+06\n",
       "7        Uruguay     3219.793  2.525596e+04"
      ]
     },
     "execution_count": 26,
     "metadata": {},
     "output_type": "execute_result"
    }
   ],
   "source": [
    "df_subset = df[['country', 'POP', 'tcgdp']]\n",
    "df_subset"
   ]
  },
  {
   "cell_type": "markdown",
   "id": "3a64763a",
   "metadata": {},
   "source": [
    "We can then save the smaller dataset for further analysis."
   ]
  },
  {
   "cell_type": "markdown",
   "id": "447bd819",
   "metadata": {
    "hide-output": false
   },
   "source": [
    "```python3\n",
    "df_subset.to_csv('pwt_subset.csv', index=False)\n",
    "```\n"
   ]
  },
  {
   "cell_type": "markdown",
   "id": "15197979",
   "metadata": {},
   "source": [
    "### Apply Method\n",
    "\n",
    "Another widely used Pandas method is `df.apply()`.\n",
    "\n",
    "It applies a function to each row/column and returns a series.\n",
    "\n",
    "This function can be some built-in functions like the `max` function, a `lambda` function, or a user-defined function.\n",
    "\n",
    "Here is an example using the `max` function"
   ]
  },
  {
   "cell_type": "code",
   "execution_count": 27,
   "id": "38f87e80",
   "metadata": {
    "hide-output": false
   },
   "outputs": [
    {
     "data": {
      "text/plain": [
       "year     2.000000e+03\n",
       "POP      1.006300e+06\n",
       "XRAT     5.954381e+01\n",
       "tcgdp    9.898700e+06\n",
       "cc       7.897874e+01\n",
       "cg       1.407221e+01\n",
       "dtype: float64"
      ]
     },
     "execution_count": 27,
     "metadata": {},
     "output_type": "execute_result"
    }
   ],
   "source": [
    "df[['year', 'POP', 'XRAT', 'tcgdp', 'cc', 'cg']].apply(max)"
   ]
  },
  {
   "cell_type": "markdown",
   "id": "a716469c",
   "metadata": {},
   "source": [
    "This line of code applies the `max` function to all selected columns.\n",
    "\n",
    "`lambda` function is often used with `df.apply()` method\n",
    "\n",
    "A trivial example is to return itself for each row in the dataframe"
   ]
  },
  {
   "cell_type": "code",
   "execution_count": 28,
   "id": "92334f07",
   "metadata": {
    "hide-output": false
   },
   "outputs": [
    {
     "data": {
      "text/html": [
       "<div>\n",
       "<style scoped>\n",
       "    .dataframe tbody tr th:only-of-type {\n",
       "        vertical-align: middle;\n",
       "    }\n",
       "\n",
       "    .dataframe tbody tr th {\n",
       "        vertical-align: top;\n",
       "    }\n",
       "\n",
       "    .dataframe thead th {\n",
       "        text-align: right;\n",
       "    }\n",
       "</style>\n",
       "<table border=\"1\" class=\"dataframe\">\n",
       "  <thead>\n",
       "    <tr style=\"text-align: right;\">\n",
       "      <th></th>\n",
       "      <th>country</th>\n",
       "      <th>country isocode</th>\n",
       "      <th>year</th>\n",
       "      <th>POP</th>\n",
       "      <th>XRAT</th>\n",
       "      <th>tcgdp</th>\n",
       "      <th>cc</th>\n",
       "      <th>cg</th>\n",
       "    </tr>\n",
       "  </thead>\n",
       "  <tbody>\n",
       "    <tr>\n",
       "      <th>0</th>\n",
       "      <td>Argentina</td>\n",
       "      <td>ARG</td>\n",
       "      <td>2000</td>\n",
       "      <td>37335.653</td>\n",
       "      <td>0.999500</td>\n",
       "      <td>2.950722e+05</td>\n",
       "      <td>75.716805</td>\n",
       "      <td>5.578804</td>\n",
       "    </tr>\n",
       "    <tr>\n",
       "      <th>1</th>\n",
       "      <td>Australia</td>\n",
       "      <td>AUS</td>\n",
       "      <td>2000</td>\n",
       "      <td>19053.186</td>\n",
       "      <td>1.724830</td>\n",
       "      <td>5.418047e+05</td>\n",
       "      <td>67.759026</td>\n",
       "      <td>6.720098</td>\n",
       "    </tr>\n",
       "    <tr>\n",
       "      <th>2</th>\n",
       "      <td>India</td>\n",
       "      <td>IND</td>\n",
       "      <td>2000</td>\n",
       "      <td>1006300.297</td>\n",
       "      <td>44.941600</td>\n",
       "      <td>1.728144e+06</td>\n",
       "      <td>64.575551</td>\n",
       "      <td>14.072206</td>\n",
       "    </tr>\n",
       "    <tr>\n",
       "      <th>3</th>\n",
       "      <td>Israel</td>\n",
       "      <td>ISR</td>\n",
       "      <td>2000</td>\n",
       "      <td>6114.570</td>\n",
       "      <td>4.077330</td>\n",
       "      <td>1.292539e+05</td>\n",
       "      <td>64.436451</td>\n",
       "      <td>10.266688</td>\n",
       "    </tr>\n",
       "    <tr>\n",
       "      <th>4</th>\n",
       "      <td>Malawi</td>\n",
       "      <td>MWI</td>\n",
       "      <td>2000</td>\n",
       "      <td>11801.505</td>\n",
       "      <td>59.543808</td>\n",
       "      <td>5.026222e+03</td>\n",
       "      <td>74.707624</td>\n",
       "      <td>11.658954</td>\n",
       "    </tr>\n",
       "    <tr>\n",
       "      <th>5</th>\n",
       "      <td>South Africa</td>\n",
       "      <td>ZAF</td>\n",
       "      <td>2000</td>\n",
       "      <td>45064.098</td>\n",
       "      <td>6.939830</td>\n",
       "      <td>2.272424e+05</td>\n",
       "      <td>72.718710</td>\n",
       "      <td>5.726546</td>\n",
       "    </tr>\n",
       "    <tr>\n",
       "      <th>6</th>\n",
       "      <td>United States</td>\n",
       "      <td>USA</td>\n",
       "      <td>2000</td>\n",
       "      <td>282171.957</td>\n",
       "      <td>1.000000</td>\n",
       "      <td>9.898700e+06</td>\n",
       "      <td>72.347054</td>\n",
       "      <td>6.032454</td>\n",
       "    </tr>\n",
       "    <tr>\n",
       "      <th>7</th>\n",
       "      <td>Uruguay</td>\n",
       "      <td>URY</td>\n",
       "      <td>2000</td>\n",
       "      <td>3219.793</td>\n",
       "      <td>12.099592</td>\n",
       "      <td>2.525596e+04</td>\n",
       "      <td>78.978740</td>\n",
       "      <td>5.108068</td>\n",
       "    </tr>\n",
       "  </tbody>\n",
       "</table>\n",
       "</div>"
      ],
      "text/plain": [
       "         country country isocode  year          POP       XRAT         tcgdp  \\\n",
       "0      Argentina             ARG  2000    37335.653   0.999500  2.950722e+05   \n",
       "1      Australia             AUS  2000    19053.186   1.724830  5.418047e+05   \n",
       "2          India             IND  2000  1006300.297  44.941600  1.728144e+06   \n",
       "3         Israel             ISR  2000     6114.570   4.077330  1.292539e+05   \n",
       "4         Malawi             MWI  2000    11801.505  59.543808  5.026222e+03   \n",
       "5   South Africa             ZAF  2000    45064.098   6.939830  2.272424e+05   \n",
       "6  United States             USA  2000   282171.957   1.000000  9.898700e+06   \n",
       "7        Uruguay             URY  2000     3219.793  12.099592  2.525596e+04   \n",
       "\n",
       "          cc         cg  \n",
       "0  75.716805   5.578804  \n",
       "1  67.759026   6.720098  \n",
       "2  64.575551  14.072206  \n",
       "3  64.436451  10.266688  \n",
       "4  74.707624  11.658954  \n",
       "5  72.718710   5.726546  \n",
       "6  72.347054   6.032454  \n",
       "7  78.978740   5.108068  "
      ]
     },
     "execution_count": 28,
     "metadata": {},
     "output_type": "execute_result"
    }
   ],
   "source": [
    "df.apply(lambda row: row, axis=1)"
   ]
  },
  {
   "cell_type": "markdown",
   "id": "7d6791a4",
   "metadata": {},
   "source": [
    ">**Note**\n",
    ">\n",
    ">For the `.apply()` method\n",
    "\n",
    "- axis = 0 – apply function to each column (variables)  \n",
    "- axis = 1 – apply function to each row (observations)  \n",
    "- axis = 0 is the default parameter  \n",
    "\n",
    "\n",
    "We can use it together with `.loc[]` to do some more advanced selection."
   ]
  },
  {
   "cell_type": "code",
   "execution_count": 29,
   "id": "2a295156",
   "metadata": {
    "hide-output": false
   },
   "outputs": [],
   "source": [
    "complexCondition = df.apply(\n",
    "    lambda row: row.POP > 40000 if row.country in ['Argentina', 'India', 'South Africa'] else row.POP < 20000, \n",
    "    axis=1), ['country', 'year', 'POP', 'XRAT', 'tcgdp']"
   ]
  },
  {
   "cell_type": "markdown",
   "id": "a56fcb50",
   "metadata": {},
   "source": [
    "`df.apply()` here returns a series of boolean values rows that satisfies the condition specified in the if-else statement.\n",
    "\n",
    "In addition, it also defines a subset of variables of interest."
   ]
  },
  {
   "cell_type": "code",
   "execution_count": 30,
   "id": "3dfbf00b",
   "metadata": {
    "hide-output": false
   },
   "outputs": [
    {
     "data": {
      "text/plain": [
       "(0    False\n",
       " 1     True\n",
       " 2     True\n",
       " 3     True\n",
       " 4     True\n",
       " 5     True\n",
       " 6    False\n",
       " 7     True\n",
       " dtype: bool,\n",
       " ['country', 'year', 'POP', 'XRAT', 'tcgdp'])"
      ]
     },
     "execution_count": 30,
     "metadata": {},
     "output_type": "execute_result"
    }
   ],
   "source": [
    "complexCondition"
   ]
  },
  {
   "cell_type": "markdown",
   "id": "a6c4fdf5",
   "metadata": {},
   "source": [
    "When we apply this condition to the dataframe, the result will be"
   ]
  },
  {
   "cell_type": "code",
   "execution_count": 31,
   "id": "82752495",
   "metadata": {
    "hide-output": false
   },
   "outputs": [
    {
     "data": {
      "text/html": [
       "<div>\n",
       "<style scoped>\n",
       "    .dataframe tbody tr th:only-of-type {\n",
       "        vertical-align: middle;\n",
       "    }\n",
       "\n",
       "    .dataframe tbody tr th {\n",
       "        vertical-align: top;\n",
       "    }\n",
       "\n",
       "    .dataframe thead th {\n",
       "        text-align: right;\n",
       "    }\n",
       "</style>\n",
       "<table border=\"1\" class=\"dataframe\">\n",
       "  <thead>\n",
       "    <tr style=\"text-align: right;\">\n",
       "      <th></th>\n",
       "      <th>country</th>\n",
       "      <th>year</th>\n",
       "      <th>POP</th>\n",
       "      <th>XRAT</th>\n",
       "      <th>tcgdp</th>\n",
       "    </tr>\n",
       "  </thead>\n",
       "  <tbody>\n",
       "    <tr>\n",
       "      <th>1</th>\n",
       "      <td>Australia</td>\n",
       "      <td>2000</td>\n",
       "      <td>19053.186</td>\n",
       "      <td>1.724830</td>\n",
       "      <td>5.418047e+05</td>\n",
       "    </tr>\n",
       "    <tr>\n",
       "      <th>2</th>\n",
       "      <td>India</td>\n",
       "      <td>2000</td>\n",
       "      <td>1006300.297</td>\n",
       "      <td>44.941600</td>\n",
       "      <td>1.728144e+06</td>\n",
       "    </tr>\n",
       "    <tr>\n",
       "      <th>3</th>\n",
       "      <td>Israel</td>\n",
       "      <td>2000</td>\n",
       "      <td>6114.570</td>\n",
       "      <td>4.077330</td>\n",
       "      <td>1.292539e+05</td>\n",
       "    </tr>\n",
       "    <tr>\n",
       "      <th>4</th>\n",
       "      <td>Malawi</td>\n",
       "      <td>2000</td>\n",
       "      <td>11801.505</td>\n",
       "      <td>59.543808</td>\n",
       "      <td>5.026222e+03</td>\n",
       "    </tr>\n",
       "    <tr>\n",
       "      <th>5</th>\n",
       "      <td>South Africa</td>\n",
       "      <td>2000</td>\n",
       "      <td>45064.098</td>\n",
       "      <td>6.939830</td>\n",
       "      <td>2.272424e+05</td>\n",
       "    </tr>\n",
       "    <tr>\n",
       "      <th>7</th>\n",
       "      <td>Uruguay</td>\n",
       "      <td>2000</td>\n",
       "      <td>3219.793</td>\n",
       "      <td>12.099592</td>\n",
       "      <td>2.525596e+04</td>\n",
       "    </tr>\n",
       "  </tbody>\n",
       "</table>\n",
       "</div>"
      ],
      "text/plain": [
       "        country  year          POP       XRAT         tcgdp\n",
       "1     Australia  2000    19053.186   1.724830  5.418047e+05\n",
       "2         India  2000  1006300.297  44.941600  1.728144e+06\n",
       "3        Israel  2000     6114.570   4.077330  1.292539e+05\n",
       "4        Malawi  2000    11801.505  59.543808  5.026222e+03\n",
       "5  South Africa  2000    45064.098   6.939830  2.272424e+05\n",
       "7       Uruguay  2000     3219.793  12.099592  2.525596e+04"
      ]
     },
     "execution_count": 31,
     "metadata": {},
     "output_type": "execute_result"
    }
   ],
   "source": [
    "df.loc[complexCondition]"
   ]
  },
  {
   "cell_type": "markdown",
   "id": "b2aecc62",
   "metadata": {},
   "source": [
    "### Make Changes in DataFrames\n",
    "\n",
    "The ability to make changes in dataframes is important to generate a clean dataset for future analysis.\n",
    "\n",
    "**1.** We can use `df.where()` conveniently to “keep” the rows we have selected and replace the rest rows with any other values"
   ]
  },
  {
   "cell_type": "code",
   "execution_count": 32,
   "id": "ae46ac8f",
   "metadata": {
    "hide-output": false
   },
   "outputs": [
    {
     "data": {
      "text/html": [
       "<div>\n",
       "<style scoped>\n",
       "    .dataframe tbody tr th:only-of-type {\n",
       "        vertical-align: middle;\n",
       "    }\n",
       "\n",
       "    .dataframe tbody tr th {\n",
       "        vertical-align: top;\n",
       "    }\n",
       "\n",
       "    .dataframe thead th {\n",
       "        text-align: right;\n",
       "    }\n",
       "</style>\n",
       "<table border=\"1\" class=\"dataframe\">\n",
       "  <thead>\n",
       "    <tr style=\"text-align: right;\">\n",
       "      <th></th>\n",
       "      <th>country</th>\n",
       "      <th>country isocode</th>\n",
       "      <th>year</th>\n",
       "      <th>POP</th>\n",
       "      <th>XRAT</th>\n",
       "      <th>tcgdp</th>\n",
       "      <th>cc</th>\n",
       "      <th>cg</th>\n",
       "    </tr>\n",
       "  </thead>\n",
       "  <tbody>\n",
       "    <tr>\n",
       "      <th>0</th>\n",
       "      <td>Argentina</td>\n",
       "      <td>ARG</td>\n",
       "      <td>2000</td>\n",
       "      <td>37335.653</td>\n",
       "      <td>0.9995</td>\n",
       "      <td>295072.21869</td>\n",
       "      <td>75.716805</td>\n",
       "      <td>5.578804</td>\n",
       "    </tr>\n",
       "    <tr>\n",
       "      <th>1</th>\n",
       "      <td>False</td>\n",
       "      <td>False</td>\n",
       "      <td>False</td>\n",
       "      <td>False</td>\n",
       "      <td>False</td>\n",
       "      <td>False</td>\n",
       "      <td>False</td>\n",
       "      <td>False</td>\n",
       "    </tr>\n",
       "    <tr>\n",
       "      <th>2</th>\n",
       "      <td>India</td>\n",
       "      <td>IND</td>\n",
       "      <td>2000</td>\n",
       "      <td>1006300.297</td>\n",
       "      <td>44.9416</td>\n",
       "      <td>1728144.3748</td>\n",
       "      <td>64.575551</td>\n",
       "      <td>14.072206</td>\n",
       "    </tr>\n",
       "    <tr>\n",
       "      <th>3</th>\n",
       "      <td>False</td>\n",
       "      <td>False</td>\n",
       "      <td>False</td>\n",
       "      <td>False</td>\n",
       "      <td>False</td>\n",
       "      <td>False</td>\n",
       "      <td>False</td>\n",
       "      <td>False</td>\n",
       "    </tr>\n",
       "    <tr>\n",
       "      <th>4</th>\n",
       "      <td>False</td>\n",
       "      <td>False</td>\n",
       "      <td>False</td>\n",
       "      <td>False</td>\n",
       "      <td>False</td>\n",
       "      <td>False</td>\n",
       "      <td>False</td>\n",
       "      <td>False</td>\n",
       "    </tr>\n",
       "    <tr>\n",
       "      <th>5</th>\n",
       "      <td>South Africa</td>\n",
       "      <td>ZAF</td>\n",
       "      <td>2000</td>\n",
       "      <td>45064.098</td>\n",
       "      <td>6.93983</td>\n",
       "      <td>227242.36949</td>\n",
       "      <td>72.71871</td>\n",
       "      <td>5.726546</td>\n",
       "    </tr>\n",
       "    <tr>\n",
       "      <th>6</th>\n",
       "      <td>United States</td>\n",
       "      <td>USA</td>\n",
       "      <td>2000</td>\n",
       "      <td>282171.957</td>\n",
       "      <td>1.0</td>\n",
       "      <td>9898700.0</td>\n",
       "      <td>72.347054</td>\n",
       "      <td>6.032454</td>\n",
       "    </tr>\n",
       "    <tr>\n",
       "      <th>7</th>\n",
       "      <td>False</td>\n",
       "      <td>False</td>\n",
       "      <td>False</td>\n",
       "      <td>False</td>\n",
       "      <td>False</td>\n",
       "      <td>False</td>\n",
       "      <td>False</td>\n",
       "      <td>False</td>\n",
       "    </tr>\n",
       "  </tbody>\n",
       "</table>\n",
       "</div>"
      ],
      "text/plain": [
       "         country country isocode   year          POP     XRAT         tcgdp  \\\n",
       "0      Argentina             ARG   2000    37335.653   0.9995  295072.21869   \n",
       "1          False           False  False        False    False         False   \n",
       "2          India             IND   2000  1006300.297  44.9416  1728144.3748   \n",
       "3          False           False  False        False    False         False   \n",
       "4          False           False  False        False    False         False   \n",
       "5   South Africa             ZAF   2000    45064.098  6.93983  227242.36949   \n",
       "6  United States             USA   2000   282171.957      1.0     9898700.0   \n",
       "7          False           False  False        False    False         False   \n",
       "\n",
       "          cc         cg  \n",
       "0  75.716805   5.578804  \n",
       "1      False      False  \n",
       "2  64.575551  14.072206  \n",
       "3      False      False  \n",
       "4      False      False  \n",
       "5   72.71871   5.726546  \n",
       "6  72.347054   6.032454  \n",
       "7      False      False  "
      ]
     },
     "execution_count": 32,
     "metadata": {},
     "output_type": "execute_result"
    }
   ],
   "source": [
    "df.where(df.POP >= 20000, False)"
   ]
  },
  {
   "cell_type": "markdown",
   "id": "c4ca11cd",
   "metadata": {},
   "source": [
    "**2.** We can simply use `.loc[]` to specify the column that we want to modify, and assign values"
   ]
  },
  {
   "cell_type": "code",
   "execution_count": 33,
   "id": "eb64b21c",
   "metadata": {
    "hide-output": false
   },
   "outputs": [
    {
     "data": {
      "text/html": [
       "<div>\n",
       "<style scoped>\n",
       "    .dataframe tbody tr th:only-of-type {\n",
       "        vertical-align: middle;\n",
       "    }\n",
       "\n",
       "    .dataframe tbody tr th {\n",
       "        vertical-align: top;\n",
       "    }\n",
       "\n",
       "    .dataframe thead th {\n",
       "        text-align: right;\n",
       "    }\n",
       "</style>\n",
       "<table border=\"1\" class=\"dataframe\">\n",
       "  <thead>\n",
       "    <tr style=\"text-align: right;\">\n",
       "      <th></th>\n",
       "      <th>country</th>\n",
       "      <th>country isocode</th>\n",
       "      <th>year</th>\n",
       "      <th>POP</th>\n",
       "      <th>XRAT</th>\n",
       "      <th>tcgdp</th>\n",
       "      <th>cc</th>\n",
       "      <th>cg</th>\n",
       "    </tr>\n",
       "  </thead>\n",
       "  <tbody>\n",
       "    <tr>\n",
       "      <th>0</th>\n",
       "      <td>Argentina</td>\n",
       "      <td>ARG</td>\n",
       "      <td>2000</td>\n",
       "      <td>37335.653</td>\n",
       "      <td>0.999500</td>\n",
       "      <td>2.950722e+05</td>\n",
       "      <td>75.716805</td>\n",
       "      <td>5.578804</td>\n",
       "    </tr>\n",
       "    <tr>\n",
       "      <th>1</th>\n",
       "      <td>Australia</td>\n",
       "      <td>AUS</td>\n",
       "      <td>2000</td>\n",
       "      <td>19053.186</td>\n",
       "      <td>1.724830</td>\n",
       "      <td>5.418047e+05</td>\n",
       "      <td>67.759026</td>\n",
       "      <td>6.720098</td>\n",
       "    </tr>\n",
       "    <tr>\n",
       "      <th>2</th>\n",
       "      <td>India</td>\n",
       "      <td>IND</td>\n",
       "      <td>2000</td>\n",
       "      <td>1006300.297</td>\n",
       "      <td>44.941600</td>\n",
       "      <td>1.728144e+06</td>\n",
       "      <td>64.575551</td>\n",
       "      <td>NaN</td>\n",
       "    </tr>\n",
       "    <tr>\n",
       "      <th>3</th>\n",
       "      <td>Israel</td>\n",
       "      <td>ISR</td>\n",
       "      <td>2000</td>\n",
       "      <td>6114.570</td>\n",
       "      <td>4.077330</td>\n",
       "      <td>1.292539e+05</td>\n",
       "      <td>64.436451</td>\n",
       "      <td>10.266688</td>\n",
       "    </tr>\n",
       "    <tr>\n",
       "      <th>4</th>\n",
       "      <td>Malawi</td>\n",
       "      <td>MWI</td>\n",
       "      <td>2000</td>\n",
       "      <td>11801.505</td>\n",
       "      <td>59.543808</td>\n",
       "      <td>5.026222e+03</td>\n",
       "      <td>74.707624</td>\n",
       "      <td>11.658954</td>\n",
       "    </tr>\n",
       "    <tr>\n",
       "      <th>5</th>\n",
       "      <td>South Africa</td>\n",
       "      <td>ZAF</td>\n",
       "      <td>2000</td>\n",
       "      <td>45064.098</td>\n",
       "      <td>6.939830</td>\n",
       "      <td>2.272424e+05</td>\n",
       "      <td>72.718710</td>\n",
       "      <td>5.726546</td>\n",
       "    </tr>\n",
       "    <tr>\n",
       "      <th>6</th>\n",
       "      <td>United States</td>\n",
       "      <td>USA</td>\n",
       "      <td>2000</td>\n",
       "      <td>282171.957</td>\n",
       "      <td>1.000000</td>\n",
       "      <td>9.898700e+06</td>\n",
       "      <td>72.347054</td>\n",
       "      <td>6.032454</td>\n",
       "    </tr>\n",
       "    <tr>\n",
       "      <th>7</th>\n",
       "      <td>Uruguay</td>\n",
       "      <td>URY</td>\n",
       "      <td>2000</td>\n",
       "      <td>3219.793</td>\n",
       "      <td>12.099592</td>\n",
       "      <td>2.525596e+04</td>\n",
       "      <td>78.978740</td>\n",
       "      <td>5.108068</td>\n",
       "    </tr>\n",
       "  </tbody>\n",
       "</table>\n",
       "</div>"
      ],
      "text/plain": [
       "         country country isocode  year          POP       XRAT         tcgdp  \\\n",
       "0      Argentina             ARG  2000    37335.653   0.999500  2.950722e+05   \n",
       "1      Australia             AUS  2000    19053.186   1.724830  5.418047e+05   \n",
       "2          India             IND  2000  1006300.297  44.941600  1.728144e+06   \n",
       "3         Israel             ISR  2000     6114.570   4.077330  1.292539e+05   \n",
       "4         Malawi             MWI  2000    11801.505  59.543808  5.026222e+03   \n",
       "5   South Africa             ZAF  2000    45064.098   6.939830  2.272424e+05   \n",
       "6  United States             USA  2000   282171.957   1.000000  9.898700e+06   \n",
       "7        Uruguay             URY  2000     3219.793  12.099592  2.525596e+04   \n",
       "\n",
       "          cc         cg  \n",
       "0  75.716805   5.578804  \n",
       "1  67.759026   6.720098  \n",
       "2  64.575551        NaN  \n",
       "3  64.436451  10.266688  \n",
       "4  74.707624  11.658954  \n",
       "5  72.718710   5.726546  \n",
       "6  72.347054   6.032454  \n",
       "7  78.978740   5.108068  "
      ]
     },
     "execution_count": 33,
     "metadata": {},
     "output_type": "execute_result"
    }
   ],
   "source": [
    "df.loc[df.cg == max(df.cg), 'cg'] = np.nan\n",
    "df"
   ]
  },
  {
   "cell_type": "markdown",
   "id": "9d42a991",
   "metadata": {},
   "source": [
    "**3.** We can use the `.apply()` method to modify *rows/columns as a whole*"
   ]
  },
  {
   "cell_type": "code",
   "execution_count": 34,
   "id": "2701aa97",
   "metadata": {
    "hide-output": false
   },
   "outputs": [
    {
     "data": {
      "text/html": [
       "<div>\n",
       "<style scoped>\n",
       "    .dataframe tbody tr th:only-of-type {\n",
       "        vertical-align: middle;\n",
       "    }\n",
       "\n",
       "    .dataframe tbody tr th {\n",
       "        vertical-align: top;\n",
       "    }\n",
       "\n",
       "    .dataframe thead th {\n",
       "        text-align: right;\n",
       "    }\n",
       "</style>\n",
       "<table border=\"1\" class=\"dataframe\">\n",
       "  <thead>\n",
       "    <tr style=\"text-align: right;\">\n",
       "      <th></th>\n",
       "      <th>country</th>\n",
       "      <th>country isocode</th>\n",
       "      <th>year</th>\n",
       "      <th>POP</th>\n",
       "      <th>XRAT</th>\n",
       "      <th>tcgdp</th>\n",
       "      <th>cc</th>\n",
       "      <th>cg</th>\n",
       "    </tr>\n",
       "  </thead>\n",
       "  <tbody>\n",
       "    <tr>\n",
       "      <th>0</th>\n",
       "      <td>Argentina</td>\n",
       "      <td>ARG</td>\n",
       "      <td>2000</td>\n",
       "      <td>37335.653</td>\n",
       "      <td>0.099950</td>\n",
       "      <td>2.950722e+05</td>\n",
       "      <td>75.716805</td>\n",
       "      <td>5.578804</td>\n",
       "    </tr>\n",
       "    <tr>\n",
       "      <th>1</th>\n",
       "      <td>Australia</td>\n",
       "      <td>AUS</td>\n",
       "      <td>2000</td>\n",
       "      <td>19053.186</td>\n",
       "      <td>0.172483</td>\n",
       "      <td>5.418047e+05</td>\n",
       "      <td>67.759026</td>\n",
       "      <td>6.720098</td>\n",
       "    </tr>\n",
       "    <tr>\n",
       "      <th>2</th>\n",
       "      <td>India</td>\n",
       "      <td>IND</td>\n",
       "      <td>2000</td>\n",
       "      <td>1006300.297</td>\n",
       "      <td>4.494160</td>\n",
       "      <td>1.728144e+06</td>\n",
       "      <td>64.575551</td>\n",
       "      <td>NaN</td>\n",
       "    </tr>\n",
       "    <tr>\n",
       "      <th>3</th>\n",
       "      <td>Israel</td>\n",
       "      <td>ISR</td>\n",
       "      <td>2000</td>\n",
       "      <td>NaN</td>\n",
       "      <td>0.407733</td>\n",
       "      <td>1.292539e+05</td>\n",
       "      <td>64.436451</td>\n",
       "      <td>10.266688</td>\n",
       "    </tr>\n",
       "    <tr>\n",
       "      <th>4</th>\n",
       "      <td>Malawi</td>\n",
       "      <td>MWI</td>\n",
       "      <td>2000</td>\n",
       "      <td>11801.505</td>\n",
       "      <td>5.954381</td>\n",
       "      <td>5.026222e+03</td>\n",
       "      <td>74.707624</td>\n",
       "      <td>11.658954</td>\n",
       "    </tr>\n",
       "    <tr>\n",
       "      <th>5</th>\n",
       "      <td>South Africa</td>\n",
       "      <td>ZAF</td>\n",
       "      <td>2000</td>\n",
       "      <td>45064.098</td>\n",
       "      <td>0.693983</td>\n",
       "      <td>2.272424e+05</td>\n",
       "      <td>72.718710</td>\n",
       "      <td>5.726546</td>\n",
       "    </tr>\n",
       "    <tr>\n",
       "      <th>6</th>\n",
       "      <td>United States</td>\n",
       "      <td>USA</td>\n",
       "      <td>2000</td>\n",
       "      <td>282171.957</td>\n",
       "      <td>0.100000</td>\n",
       "      <td>9.898700e+06</td>\n",
       "      <td>72.347054</td>\n",
       "      <td>6.032454</td>\n",
       "    </tr>\n",
       "    <tr>\n",
       "      <th>7</th>\n",
       "      <td>Uruguay</td>\n",
       "      <td>URY</td>\n",
       "      <td>2000</td>\n",
       "      <td>NaN</td>\n",
       "      <td>1.209959</td>\n",
       "      <td>2.525596e+04</td>\n",
       "      <td>78.978740</td>\n",
       "      <td>5.108068</td>\n",
       "    </tr>\n",
       "  </tbody>\n",
       "</table>\n",
       "</div>"
      ],
      "text/plain": [
       "         country country isocode  year          POP      XRAT         tcgdp  \\\n",
       "0      Argentina             ARG  2000    37335.653  0.099950  2.950722e+05   \n",
       "1      Australia             AUS  2000    19053.186  0.172483  5.418047e+05   \n",
       "2          India             IND  2000  1006300.297  4.494160  1.728144e+06   \n",
       "3         Israel             ISR  2000          NaN  0.407733  1.292539e+05   \n",
       "4         Malawi             MWI  2000    11801.505  5.954381  5.026222e+03   \n",
       "5   South Africa             ZAF  2000    45064.098  0.693983  2.272424e+05   \n",
       "6  United States             USA  2000   282171.957  0.100000  9.898700e+06   \n",
       "7        Uruguay             URY  2000          NaN  1.209959  2.525596e+04   \n",
       "\n",
       "          cc         cg  \n",
       "0  75.716805   5.578804  \n",
       "1  67.759026   6.720098  \n",
       "2  64.575551        NaN  \n",
       "3  64.436451  10.266688  \n",
       "4  74.707624  11.658954  \n",
       "5  72.718710   5.726546  \n",
       "6  72.347054   6.032454  \n",
       "7  78.978740   5.108068  "
      ]
     },
     "execution_count": 34,
     "metadata": {},
     "output_type": "execute_result"
    }
   ],
   "source": [
    "def update_row(row):\n",
    "    # modify POP\n",
    "    row.POP = np.nan if row.POP<= 10000 else row.POP\n",
    "\n",
    "    # modify XRAT\n",
    "    row.XRAT = row.XRAT / 10\n",
    "    return row\n",
    "\n",
    "df.apply(update_row, axis=1)"
   ]
  },
  {
   "cell_type": "markdown",
   "id": "1d19f740",
   "metadata": {},
   "source": [
    "**4.** We can use the `.applymap()` method to modify all *individual entries* in the dataframe altogether."
   ]
  },
  {
   "cell_type": "code",
   "execution_count": 35,
   "id": "d5adae32",
   "metadata": {
    "hide-output": false
   },
   "outputs": [
    {
     "name": "stderr",
     "output_type": "stream",
     "text": [
      "/var/folders/v4/8yvlmdh17719kc18c21wy27r0000gn/T/ipykernel_80483/2333807478.py:2: FutureWarning: DataFrame.applymap has been deprecated. Use DataFrame.map instead.\n",
      "  df.applymap(lambda x : round(x,2) if type(x)!=str else x)\n"
     ]
    },
    {
     "data": {
      "text/html": [
       "<div>\n",
       "<style scoped>\n",
       "    .dataframe tbody tr th:only-of-type {\n",
       "        vertical-align: middle;\n",
       "    }\n",
       "\n",
       "    .dataframe tbody tr th {\n",
       "        vertical-align: top;\n",
       "    }\n",
       "\n",
       "    .dataframe thead th {\n",
       "        text-align: right;\n",
       "    }\n",
       "</style>\n",
       "<table border=\"1\" class=\"dataframe\">\n",
       "  <thead>\n",
       "    <tr style=\"text-align: right;\">\n",
       "      <th></th>\n",
       "      <th>country</th>\n",
       "      <th>country isocode</th>\n",
       "      <th>year</th>\n",
       "      <th>POP</th>\n",
       "      <th>XRAT</th>\n",
       "      <th>tcgdp</th>\n",
       "      <th>cc</th>\n",
       "      <th>cg</th>\n",
       "    </tr>\n",
       "  </thead>\n",
       "  <tbody>\n",
       "    <tr>\n",
       "      <th>0</th>\n",
       "      <td>Argentina</td>\n",
       "      <td>ARG</td>\n",
       "      <td>2000</td>\n",
       "      <td>37335.65</td>\n",
       "      <td>1.00</td>\n",
       "      <td>295072.22</td>\n",
       "      <td>75.72</td>\n",
       "      <td>5.58</td>\n",
       "    </tr>\n",
       "    <tr>\n",
       "      <th>1</th>\n",
       "      <td>Australia</td>\n",
       "      <td>AUS</td>\n",
       "      <td>2000</td>\n",
       "      <td>19053.19</td>\n",
       "      <td>1.72</td>\n",
       "      <td>541804.65</td>\n",
       "      <td>67.76</td>\n",
       "      <td>6.72</td>\n",
       "    </tr>\n",
       "    <tr>\n",
       "      <th>2</th>\n",
       "      <td>India</td>\n",
       "      <td>IND</td>\n",
       "      <td>2000</td>\n",
       "      <td>1006300.30</td>\n",
       "      <td>44.94</td>\n",
       "      <td>1728144.37</td>\n",
       "      <td>64.58</td>\n",
       "      <td>NaN</td>\n",
       "    </tr>\n",
       "    <tr>\n",
       "      <th>3</th>\n",
       "      <td>Israel</td>\n",
       "      <td>ISR</td>\n",
       "      <td>2000</td>\n",
       "      <td>6114.57</td>\n",
       "      <td>4.08</td>\n",
       "      <td>129253.89</td>\n",
       "      <td>64.44</td>\n",
       "      <td>10.27</td>\n",
       "    </tr>\n",
       "    <tr>\n",
       "      <th>4</th>\n",
       "      <td>Malawi</td>\n",
       "      <td>MWI</td>\n",
       "      <td>2000</td>\n",
       "      <td>11801.50</td>\n",
       "      <td>59.54</td>\n",
       "      <td>5026.22</td>\n",
       "      <td>74.71</td>\n",
       "      <td>11.66</td>\n",
       "    </tr>\n",
       "    <tr>\n",
       "      <th>5</th>\n",
       "      <td>South Africa</td>\n",
       "      <td>ZAF</td>\n",
       "      <td>2000</td>\n",
       "      <td>45064.10</td>\n",
       "      <td>6.94</td>\n",
       "      <td>227242.37</td>\n",
       "      <td>72.72</td>\n",
       "      <td>5.73</td>\n",
       "    </tr>\n",
       "    <tr>\n",
       "      <th>6</th>\n",
       "      <td>United States</td>\n",
       "      <td>USA</td>\n",
       "      <td>2000</td>\n",
       "      <td>282171.96</td>\n",
       "      <td>1.00</td>\n",
       "      <td>9898700.00</td>\n",
       "      <td>72.35</td>\n",
       "      <td>6.03</td>\n",
       "    </tr>\n",
       "    <tr>\n",
       "      <th>7</th>\n",
       "      <td>Uruguay</td>\n",
       "      <td>URY</td>\n",
       "      <td>2000</td>\n",
       "      <td>3219.79</td>\n",
       "      <td>12.10</td>\n",
       "      <td>25255.96</td>\n",
       "      <td>78.98</td>\n",
       "      <td>5.11</td>\n",
       "    </tr>\n",
       "  </tbody>\n",
       "</table>\n",
       "</div>"
      ],
      "text/plain": [
       "         country country isocode  year         POP   XRAT       tcgdp     cc  \\\n",
       "0      Argentina             ARG  2000    37335.65   1.00   295072.22  75.72   \n",
       "1      Australia             AUS  2000    19053.19   1.72   541804.65  67.76   \n",
       "2          India             IND  2000  1006300.30  44.94  1728144.37  64.58   \n",
       "3         Israel             ISR  2000     6114.57   4.08   129253.89  64.44   \n",
       "4         Malawi             MWI  2000    11801.50  59.54     5026.22  74.71   \n",
       "5   South Africa             ZAF  2000    45064.10   6.94   227242.37  72.72   \n",
       "6  United States             USA  2000   282171.96   1.00  9898700.00  72.35   \n",
       "7        Uruguay             URY  2000     3219.79  12.10    25255.96  78.98   \n",
       "\n",
       "      cg  \n",
       "0   5.58  \n",
       "1   6.72  \n",
       "2    NaN  \n",
       "3  10.27  \n",
       "4  11.66  \n",
       "5   5.73  \n",
       "6   6.03  \n",
       "7   5.11  "
      ]
     },
     "execution_count": 35,
     "metadata": {},
     "output_type": "execute_result"
    }
   ],
   "source": [
    "# Round all decimal numbers to 2 decimal places\n",
    "df.applymap(lambda x : round(x,2) if type(x)!=str else x)"
   ]
  },
  {
   "cell_type": "markdown",
   "id": "4922960f",
   "metadata": {},
   "source": [
    "**Application: Missing Value Imputation**\n",
    "\n",
    "Replacing missing values is an important step in data munging.\n",
    "\n",
    "Let’s randomly insert some NaN values"
   ]
  },
  {
   "cell_type": "code",
   "execution_count": 36,
   "id": "156276c9",
   "metadata": {
    "hide-output": false
   },
   "outputs": [
    {
     "data": {
      "text/html": [
       "<div>\n",
       "<style scoped>\n",
       "    .dataframe tbody tr th:only-of-type {\n",
       "        vertical-align: middle;\n",
       "    }\n",
       "\n",
       "    .dataframe tbody tr th {\n",
       "        vertical-align: top;\n",
       "    }\n",
       "\n",
       "    .dataframe thead th {\n",
       "        text-align: right;\n",
       "    }\n",
       "</style>\n",
       "<table border=\"1\" class=\"dataframe\">\n",
       "  <thead>\n",
       "    <tr style=\"text-align: right;\">\n",
       "      <th></th>\n",
       "      <th>country</th>\n",
       "      <th>country isocode</th>\n",
       "      <th>year</th>\n",
       "      <th>POP</th>\n",
       "      <th>XRAT</th>\n",
       "      <th>tcgdp</th>\n",
       "      <th>cc</th>\n",
       "      <th>cg</th>\n",
       "    </tr>\n",
       "  </thead>\n",
       "  <tbody>\n",
       "    <tr>\n",
       "      <th>0</th>\n",
       "      <td>Argentina</td>\n",
       "      <td>ARG</td>\n",
       "      <td>2000.0</td>\n",
       "      <td>NaN</td>\n",
       "      <td>0.999500</td>\n",
       "      <td>2.950722e+05</td>\n",
       "      <td>75.716805</td>\n",
       "      <td>5.578804</td>\n",
       "    </tr>\n",
       "    <tr>\n",
       "      <th>1</th>\n",
       "      <td>Australia</td>\n",
       "      <td>AUS</td>\n",
       "      <td>2000.0</td>\n",
       "      <td>19053.186</td>\n",
       "      <td>1.724830</td>\n",
       "      <td>5.418047e+05</td>\n",
       "      <td>67.759026</td>\n",
       "      <td>6.720098</td>\n",
       "    </tr>\n",
       "    <tr>\n",
       "      <th>2</th>\n",
       "      <td>India</td>\n",
       "      <td>IND</td>\n",
       "      <td>2000.0</td>\n",
       "      <td>1006300.297</td>\n",
       "      <td>44.941600</td>\n",
       "      <td>1.728144e+06</td>\n",
       "      <td>64.575551</td>\n",
       "      <td>NaN</td>\n",
       "    </tr>\n",
       "    <tr>\n",
       "      <th>3</th>\n",
       "      <td>Israel</td>\n",
       "      <td>ISR</td>\n",
       "      <td>2000.0</td>\n",
       "      <td>6114.570</td>\n",
       "      <td>NaN</td>\n",
       "      <td>1.292539e+05</td>\n",
       "      <td>64.436451</td>\n",
       "      <td>10.266688</td>\n",
       "    </tr>\n",
       "    <tr>\n",
       "      <th>4</th>\n",
       "      <td>Malawi</td>\n",
       "      <td>MWI</td>\n",
       "      <td>2000.0</td>\n",
       "      <td>11801.505</td>\n",
       "      <td>59.543808</td>\n",
       "      <td>5.026222e+03</td>\n",
       "      <td>74.707624</td>\n",
       "      <td>11.658954</td>\n",
       "    </tr>\n",
       "    <tr>\n",
       "      <th>5</th>\n",
       "      <td>South Africa</td>\n",
       "      <td>ZAF</td>\n",
       "      <td>2000.0</td>\n",
       "      <td>45064.098</td>\n",
       "      <td>6.939830</td>\n",
       "      <td>2.272424e+05</td>\n",
       "      <td>NaN</td>\n",
       "      <td>5.726546</td>\n",
       "    </tr>\n",
       "    <tr>\n",
       "      <th>6</th>\n",
       "      <td>United States</td>\n",
       "      <td>USA</td>\n",
       "      <td>NaN</td>\n",
       "      <td>282171.957</td>\n",
       "      <td>1.000000</td>\n",
       "      <td>9.898700e+06</td>\n",
       "      <td>72.347054</td>\n",
       "      <td>6.032454</td>\n",
       "    </tr>\n",
       "    <tr>\n",
       "      <th>7</th>\n",
       "      <td>Uruguay</td>\n",
       "      <td>URY</td>\n",
       "      <td>2000.0</td>\n",
       "      <td>3219.793</td>\n",
       "      <td>12.099592</td>\n",
       "      <td>2.525596e+04</td>\n",
       "      <td>78.978740</td>\n",
       "      <td>5.108068</td>\n",
       "    </tr>\n",
       "  </tbody>\n",
       "</table>\n",
       "</div>"
      ],
      "text/plain": [
       "         country country isocode    year          POP       XRAT  \\\n",
       "0      Argentina             ARG  2000.0          NaN   0.999500   \n",
       "1      Australia             AUS  2000.0    19053.186   1.724830   \n",
       "2          India             IND  2000.0  1006300.297  44.941600   \n",
       "3         Israel             ISR  2000.0     6114.570        NaN   \n",
       "4         Malawi             MWI  2000.0    11801.505  59.543808   \n",
       "5   South Africa             ZAF  2000.0    45064.098   6.939830   \n",
       "6  United States             USA     NaN   282171.957   1.000000   \n",
       "7        Uruguay             URY  2000.0     3219.793  12.099592   \n",
       "\n",
       "          tcgdp         cc         cg  \n",
       "0  2.950722e+05  75.716805   5.578804  \n",
       "1  5.418047e+05  67.759026   6.720098  \n",
       "2  1.728144e+06  64.575551        NaN  \n",
       "3  1.292539e+05  64.436451  10.266688  \n",
       "4  5.026222e+03  74.707624  11.658954  \n",
       "5  2.272424e+05        NaN   5.726546  \n",
       "6  9.898700e+06  72.347054   6.032454  \n",
       "7  2.525596e+04  78.978740   5.108068  "
      ]
     },
     "execution_count": 36,
     "metadata": {},
     "output_type": "execute_result"
    }
   ],
   "source": [
    "for idx in list(zip([0, 3, 5, 6], [3, 4, 6, 2])):\n",
    "    df.iloc[idx] = np.nan\n",
    "\n",
    "df"
   ]
  },
  {
   "cell_type": "markdown",
   "id": "343570fb",
   "metadata": {},
   "source": [
    "The `zip()` function here creates pairs of values from the two lists (i.e. [0,3], [3,4] …)\n",
    "\n",
    "We can use the `.applymap()` method again to replace all missing values with 0"
   ]
  },
  {
   "cell_type": "code",
   "execution_count": 37,
   "id": "c94154e4",
   "metadata": {
    "hide-output": false
   },
   "outputs": [
    {
     "name": "stderr",
     "output_type": "stream",
     "text": [
      "/var/folders/v4/8yvlmdh17719kc18c21wy27r0000gn/T/ipykernel_80483/966822939.py:8: FutureWarning: DataFrame.applymap has been deprecated. Use DataFrame.map instead.\n",
      "  df.applymap(replace_nan)\n"
     ]
    },
    {
     "data": {
      "text/html": [
       "<div>\n",
       "<style scoped>\n",
       "    .dataframe tbody tr th:only-of-type {\n",
       "        vertical-align: middle;\n",
       "    }\n",
       "\n",
       "    .dataframe tbody tr th {\n",
       "        vertical-align: top;\n",
       "    }\n",
       "\n",
       "    .dataframe thead th {\n",
       "        text-align: right;\n",
       "    }\n",
       "</style>\n",
       "<table border=\"1\" class=\"dataframe\">\n",
       "  <thead>\n",
       "    <tr style=\"text-align: right;\">\n",
       "      <th></th>\n",
       "      <th>country</th>\n",
       "      <th>country isocode</th>\n",
       "      <th>year</th>\n",
       "      <th>POP</th>\n",
       "      <th>XRAT</th>\n",
       "      <th>tcgdp</th>\n",
       "      <th>cc</th>\n",
       "      <th>cg</th>\n",
       "    </tr>\n",
       "  </thead>\n",
       "  <tbody>\n",
       "    <tr>\n",
       "      <th>0</th>\n",
       "      <td>Argentina</td>\n",
       "      <td>ARG</td>\n",
       "      <td>2000.0</td>\n",
       "      <td>0.000</td>\n",
       "      <td>0.999500</td>\n",
       "      <td>2.950722e+05</td>\n",
       "      <td>75.716805</td>\n",
       "      <td>5.578804</td>\n",
       "    </tr>\n",
       "    <tr>\n",
       "      <th>1</th>\n",
       "      <td>Australia</td>\n",
       "      <td>AUS</td>\n",
       "      <td>2000.0</td>\n",
       "      <td>19053.186</td>\n",
       "      <td>1.724830</td>\n",
       "      <td>5.418047e+05</td>\n",
       "      <td>67.759026</td>\n",
       "      <td>6.720098</td>\n",
       "    </tr>\n",
       "    <tr>\n",
       "      <th>2</th>\n",
       "      <td>India</td>\n",
       "      <td>IND</td>\n",
       "      <td>2000.0</td>\n",
       "      <td>1006300.297</td>\n",
       "      <td>44.941600</td>\n",
       "      <td>1.728144e+06</td>\n",
       "      <td>64.575551</td>\n",
       "      <td>0.000000</td>\n",
       "    </tr>\n",
       "    <tr>\n",
       "      <th>3</th>\n",
       "      <td>Israel</td>\n",
       "      <td>ISR</td>\n",
       "      <td>2000.0</td>\n",
       "      <td>6114.570</td>\n",
       "      <td>0.000000</td>\n",
       "      <td>1.292539e+05</td>\n",
       "      <td>64.436451</td>\n",
       "      <td>10.266688</td>\n",
       "    </tr>\n",
       "    <tr>\n",
       "      <th>4</th>\n",
       "      <td>Malawi</td>\n",
       "      <td>MWI</td>\n",
       "      <td>2000.0</td>\n",
       "      <td>11801.505</td>\n",
       "      <td>59.543808</td>\n",
       "      <td>5.026222e+03</td>\n",
       "      <td>74.707624</td>\n",
       "      <td>11.658954</td>\n",
       "    </tr>\n",
       "    <tr>\n",
       "      <th>5</th>\n",
       "      <td>South Africa</td>\n",
       "      <td>ZAF</td>\n",
       "      <td>2000.0</td>\n",
       "      <td>45064.098</td>\n",
       "      <td>6.939830</td>\n",
       "      <td>2.272424e+05</td>\n",
       "      <td>0.000000</td>\n",
       "      <td>5.726546</td>\n",
       "    </tr>\n",
       "    <tr>\n",
       "      <th>6</th>\n",
       "      <td>United States</td>\n",
       "      <td>USA</td>\n",
       "      <td>0.0</td>\n",
       "      <td>282171.957</td>\n",
       "      <td>1.000000</td>\n",
       "      <td>9.898700e+06</td>\n",
       "      <td>72.347054</td>\n",
       "      <td>6.032454</td>\n",
       "    </tr>\n",
       "    <tr>\n",
       "      <th>7</th>\n",
       "      <td>Uruguay</td>\n",
       "      <td>URY</td>\n",
       "      <td>2000.0</td>\n",
       "      <td>3219.793</td>\n",
       "      <td>12.099592</td>\n",
       "      <td>2.525596e+04</td>\n",
       "      <td>78.978740</td>\n",
       "      <td>5.108068</td>\n",
       "    </tr>\n",
       "  </tbody>\n",
       "</table>\n",
       "</div>"
      ],
      "text/plain": [
       "         country country isocode    year          POP       XRAT  \\\n",
       "0      Argentina             ARG  2000.0        0.000   0.999500   \n",
       "1      Australia             AUS  2000.0    19053.186   1.724830   \n",
       "2          India             IND  2000.0  1006300.297  44.941600   \n",
       "3         Israel             ISR  2000.0     6114.570   0.000000   \n",
       "4         Malawi             MWI  2000.0    11801.505  59.543808   \n",
       "5   South Africa             ZAF  2000.0    45064.098   6.939830   \n",
       "6  United States             USA     0.0   282171.957   1.000000   \n",
       "7        Uruguay             URY  2000.0     3219.793  12.099592   \n",
       "\n",
       "          tcgdp         cc         cg  \n",
       "0  2.950722e+05  75.716805   5.578804  \n",
       "1  5.418047e+05  67.759026   6.720098  \n",
       "2  1.728144e+06  64.575551   0.000000  \n",
       "3  1.292539e+05  64.436451  10.266688  \n",
       "4  5.026222e+03  74.707624  11.658954  \n",
       "5  2.272424e+05   0.000000   5.726546  \n",
       "6  9.898700e+06  72.347054   6.032454  \n",
       "7  2.525596e+04  78.978740   5.108068  "
      ]
     },
     "execution_count": 37,
     "metadata": {},
     "output_type": "execute_result"
    }
   ],
   "source": [
    "# replace all NaN values by 0\n",
    "def replace_nan(x):\n",
    "    if type(x)!=str:\n",
    "        return  0 if np.isnan(x) else x\n",
    "    else:\n",
    "        return x\n",
    "\n",
    "df.applymap(replace_nan)"
   ]
  },
  {
   "cell_type": "markdown",
   "id": "38e65cfb",
   "metadata": {},
   "source": [
    "Pandas also provides us with convenient methods to replace missing values.\n",
    "\n",
    "For example, single imputation using variable means can be easily done in pandas"
   ]
  },
  {
   "cell_type": "code",
   "execution_count": 38,
   "id": "84e11a5a",
   "metadata": {
    "hide-output": false
   },
   "outputs": [
    {
     "data": {
      "text/html": [
       "<div>\n",
       "<style scoped>\n",
       "    .dataframe tbody tr th:only-of-type {\n",
       "        vertical-align: middle;\n",
       "    }\n",
       "\n",
       "    .dataframe tbody tr th {\n",
       "        vertical-align: top;\n",
       "    }\n",
       "\n",
       "    .dataframe thead th {\n",
       "        text-align: right;\n",
       "    }\n",
       "</style>\n",
       "<table border=\"1\" class=\"dataframe\">\n",
       "  <thead>\n",
       "    <tr style=\"text-align: right;\">\n",
       "      <th></th>\n",
       "      <th>country</th>\n",
       "      <th>country isocode</th>\n",
       "      <th>year</th>\n",
       "      <th>POP</th>\n",
       "      <th>XRAT</th>\n",
       "      <th>tcgdp</th>\n",
       "      <th>cc</th>\n",
       "      <th>cg</th>\n",
       "    </tr>\n",
       "  </thead>\n",
       "  <tbody>\n",
       "    <tr>\n",
       "      <th>0</th>\n",
       "      <td>Argentina</td>\n",
       "      <td>ARG</td>\n",
       "      <td>2000.0</td>\n",
       "      <td>1.962465e+05</td>\n",
       "      <td>0.999500</td>\n",
       "      <td>2.950722e+05</td>\n",
       "      <td>75.716805</td>\n",
       "      <td>5.578804</td>\n",
       "    </tr>\n",
       "    <tr>\n",
       "      <th>1</th>\n",
       "      <td>Australia</td>\n",
       "      <td>AUS</td>\n",
       "      <td>2000.0</td>\n",
       "      <td>1.905319e+04</td>\n",
       "      <td>1.724830</td>\n",
       "      <td>5.418047e+05</td>\n",
       "      <td>67.759026</td>\n",
       "      <td>6.720098</td>\n",
       "    </tr>\n",
       "    <tr>\n",
       "      <th>2</th>\n",
       "      <td>India</td>\n",
       "      <td>IND</td>\n",
       "      <td>2000.0</td>\n",
       "      <td>1.006300e+06</td>\n",
       "      <td>44.941600</td>\n",
       "      <td>1.728144e+06</td>\n",
       "      <td>64.575551</td>\n",
       "      <td>7.298802</td>\n",
       "    </tr>\n",
       "    <tr>\n",
       "      <th>3</th>\n",
       "      <td>Israel</td>\n",
       "      <td>ISR</td>\n",
       "      <td>2000.0</td>\n",
       "      <td>6.114570e+03</td>\n",
       "      <td>18.178451</td>\n",
       "      <td>1.292539e+05</td>\n",
       "      <td>64.436451</td>\n",
       "      <td>10.266688</td>\n",
       "    </tr>\n",
       "    <tr>\n",
       "      <th>4</th>\n",
       "      <td>Malawi</td>\n",
       "      <td>MWI</td>\n",
       "      <td>2000.0</td>\n",
       "      <td>1.180150e+04</td>\n",
       "      <td>59.543808</td>\n",
       "      <td>5.026222e+03</td>\n",
       "      <td>74.707624</td>\n",
       "      <td>11.658954</td>\n",
       "    </tr>\n",
       "    <tr>\n",
       "      <th>5</th>\n",
       "      <td>South Africa</td>\n",
       "      <td>ZAF</td>\n",
       "      <td>2000.0</td>\n",
       "      <td>4.506410e+04</td>\n",
       "      <td>6.939830</td>\n",
       "      <td>2.272424e+05</td>\n",
       "      <td>71.217322</td>\n",
       "      <td>5.726546</td>\n",
       "    </tr>\n",
       "    <tr>\n",
       "      <th>6</th>\n",
       "      <td>United States</td>\n",
       "      <td>USA</td>\n",
       "      <td>2000.0</td>\n",
       "      <td>2.821720e+05</td>\n",
       "      <td>1.000000</td>\n",
       "      <td>9.898700e+06</td>\n",
       "      <td>72.347054</td>\n",
       "      <td>6.032454</td>\n",
       "    </tr>\n",
       "    <tr>\n",
       "      <th>7</th>\n",
       "      <td>Uruguay</td>\n",
       "      <td>URY</td>\n",
       "      <td>2000.0</td>\n",
       "      <td>3.219793e+03</td>\n",
       "      <td>12.099592</td>\n",
       "      <td>2.525596e+04</td>\n",
       "      <td>78.978740</td>\n",
       "      <td>5.108068</td>\n",
       "    </tr>\n",
       "  </tbody>\n",
       "</table>\n",
       "</div>"
      ],
      "text/plain": [
       "         country country isocode    year           POP       XRAT  \\\n",
       "0      Argentina             ARG  2000.0  1.962465e+05   0.999500   \n",
       "1      Australia             AUS  2000.0  1.905319e+04   1.724830   \n",
       "2          India             IND  2000.0  1.006300e+06  44.941600   \n",
       "3         Israel             ISR  2000.0  6.114570e+03  18.178451   \n",
       "4         Malawi             MWI  2000.0  1.180150e+04  59.543808   \n",
       "5   South Africa             ZAF  2000.0  4.506410e+04   6.939830   \n",
       "6  United States             USA  2000.0  2.821720e+05   1.000000   \n",
       "7        Uruguay             URY  2000.0  3.219793e+03  12.099592   \n",
       "\n",
       "          tcgdp         cc         cg  \n",
       "0  2.950722e+05  75.716805   5.578804  \n",
       "1  5.418047e+05  67.759026   6.720098  \n",
       "2  1.728144e+06  64.575551   7.298802  \n",
       "3  1.292539e+05  64.436451  10.266688  \n",
       "4  5.026222e+03  74.707624  11.658954  \n",
       "5  2.272424e+05  71.217322   5.726546  \n",
       "6  9.898700e+06  72.347054   6.032454  \n",
       "7  2.525596e+04  78.978740   5.108068  "
      ]
     },
     "execution_count": 38,
     "metadata": {},
     "output_type": "execute_result"
    }
   ],
   "source": [
    "df = df.fillna(df.iloc[:,2:8].mean())\n",
    "df"
   ]
  },
  {
   "cell_type": "markdown",
   "id": "7f5fbaa1",
   "metadata": {},
   "source": [
    "Missing value imputation is a big area in data science involving various machine learning techniques.\n",
    "\n",
    "There are also more [advanced tools](https://scikit-learn.org/stable/modules/impute.html) in python to impute missing values."
   ]
  },
  {
   "cell_type": "markdown",
   "id": "26ba2421",
   "metadata": {},
   "source": [
    "### Standardization and Visualization\n",
    "\n",
    "Let’s imagine that we’re only interested in the population (`POP`) and total GDP (`tcgdp`).\n",
    "\n",
    "One way to strip the data frame `df` down to only these variables is to overwrite the dataframe using the selection method described above"
   ]
  },
  {
   "cell_type": "code",
   "execution_count": 39,
   "id": "3031a6a5",
   "metadata": {
    "hide-output": false
   },
   "outputs": [
    {
     "data": {
      "text/html": [
       "<div>\n",
       "<style scoped>\n",
       "    .dataframe tbody tr th:only-of-type {\n",
       "        vertical-align: middle;\n",
       "    }\n",
       "\n",
       "    .dataframe tbody tr th {\n",
       "        vertical-align: top;\n",
       "    }\n",
       "\n",
       "    .dataframe thead th {\n",
       "        text-align: right;\n",
       "    }\n",
       "</style>\n",
       "<table border=\"1\" class=\"dataframe\">\n",
       "  <thead>\n",
       "    <tr style=\"text-align: right;\">\n",
       "      <th></th>\n",
       "      <th>country</th>\n",
       "      <th>POP</th>\n",
       "      <th>tcgdp</th>\n",
       "    </tr>\n",
       "  </thead>\n",
       "  <tbody>\n",
       "    <tr>\n",
       "      <th>0</th>\n",
       "      <td>Argentina</td>\n",
       "      <td>1.962465e+05</td>\n",
       "      <td>2.950722e+05</td>\n",
       "    </tr>\n",
       "    <tr>\n",
       "      <th>1</th>\n",
       "      <td>Australia</td>\n",
       "      <td>1.905319e+04</td>\n",
       "      <td>5.418047e+05</td>\n",
       "    </tr>\n",
       "    <tr>\n",
       "      <th>2</th>\n",
       "      <td>India</td>\n",
       "      <td>1.006300e+06</td>\n",
       "      <td>1.728144e+06</td>\n",
       "    </tr>\n",
       "    <tr>\n",
       "      <th>3</th>\n",
       "      <td>Israel</td>\n",
       "      <td>6.114570e+03</td>\n",
       "      <td>1.292539e+05</td>\n",
       "    </tr>\n",
       "    <tr>\n",
       "      <th>4</th>\n",
       "      <td>Malawi</td>\n",
       "      <td>1.180150e+04</td>\n",
       "      <td>5.026222e+03</td>\n",
       "    </tr>\n",
       "    <tr>\n",
       "      <th>5</th>\n",
       "      <td>South Africa</td>\n",
       "      <td>4.506410e+04</td>\n",
       "      <td>2.272424e+05</td>\n",
       "    </tr>\n",
       "    <tr>\n",
       "      <th>6</th>\n",
       "      <td>United States</td>\n",
       "      <td>2.821720e+05</td>\n",
       "      <td>9.898700e+06</td>\n",
       "    </tr>\n",
       "    <tr>\n",
       "      <th>7</th>\n",
       "      <td>Uruguay</td>\n",
       "      <td>3.219793e+03</td>\n",
       "      <td>2.525596e+04</td>\n",
       "    </tr>\n",
       "  </tbody>\n",
       "</table>\n",
       "</div>"
      ],
      "text/plain": [
       "         country           POP         tcgdp\n",
       "0      Argentina  1.962465e+05  2.950722e+05\n",
       "1      Australia  1.905319e+04  5.418047e+05\n",
       "2          India  1.006300e+06  1.728144e+06\n",
       "3         Israel  6.114570e+03  1.292539e+05\n",
       "4         Malawi  1.180150e+04  5.026222e+03\n",
       "5   South Africa  4.506410e+04  2.272424e+05\n",
       "6  United States  2.821720e+05  9.898700e+06\n",
       "7        Uruguay  3.219793e+03  2.525596e+04"
      ]
     },
     "execution_count": 39,
     "metadata": {},
     "output_type": "execute_result"
    }
   ],
   "source": [
    "df = df[['country', 'POP', 'tcgdp']]\n",
    "df"
   ]
  },
  {
   "cell_type": "markdown",
   "id": "d847def6",
   "metadata": {},
   "source": [
    "Here the index `0, 1,..., 7` is redundant because we can use the country names as an index.\n",
    "\n",
    "To do this, we set the index to be the `country` variable in the dataframe"
   ]
  },
  {
   "cell_type": "code",
   "execution_count": 40,
   "id": "e6c62d9d",
   "metadata": {
    "hide-output": false
   },
   "outputs": [
    {
     "data": {
      "text/html": [
       "<div>\n",
       "<style scoped>\n",
       "    .dataframe tbody tr th:only-of-type {\n",
       "        vertical-align: middle;\n",
       "    }\n",
       "\n",
       "    .dataframe tbody tr th {\n",
       "        vertical-align: top;\n",
       "    }\n",
       "\n",
       "    .dataframe thead th {\n",
       "        text-align: right;\n",
       "    }\n",
       "</style>\n",
       "<table border=\"1\" class=\"dataframe\">\n",
       "  <thead>\n",
       "    <tr style=\"text-align: right;\">\n",
       "      <th></th>\n",
       "      <th>POP</th>\n",
       "      <th>tcgdp</th>\n",
       "    </tr>\n",
       "    <tr>\n",
       "      <th>country</th>\n",
       "      <th></th>\n",
       "      <th></th>\n",
       "    </tr>\n",
       "  </thead>\n",
       "  <tbody>\n",
       "    <tr>\n",
       "      <th>Argentina</th>\n",
       "      <td>1.962465e+05</td>\n",
       "      <td>2.950722e+05</td>\n",
       "    </tr>\n",
       "    <tr>\n",
       "      <th>Australia</th>\n",
       "      <td>1.905319e+04</td>\n",
       "      <td>5.418047e+05</td>\n",
       "    </tr>\n",
       "    <tr>\n",
       "      <th>India</th>\n",
       "      <td>1.006300e+06</td>\n",
       "      <td>1.728144e+06</td>\n",
       "    </tr>\n",
       "    <tr>\n",
       "      <th>Israel</th>\n",
       "      <td>6.114570e+03</td>\n",
       "      <td>1.292539e+05</td>\n",
       "    </tr>\n",
       "    <tr>\n",
       "      <th>Malawi</th>\n",
       "      <td>1.180150e+04</td>\n",
       "      <td>5.026222e+03</td>\n",
       "    </tr>\n",
       "    <tr>\n",
       "      <th>South Africa</th>\n",
       "      <td>4.506410e+04</td>\n",
       "      <td>2.272424e+05</td>\n",
       "    </tr>\n",
       "    <tr>\n",
       "      <th>United States</th>\n",
       "      <td>2.821720e+05</td>\n",
       "      <td>9.898700e+06</td>\n",
       "    </tr>\n",
       "    <tr>\n",
       "      <th>Uruguay</th>\n",
       "      <td>3.219793e+03</td>\n",
       "      <td>2.525596e+04</td>\n",
       "    </tr>\n",
       "  </tbody>\n",
       "</table>\n",
       "</div>"
      ],
      "text/plain": [
       "                        POP         tcgdp\n",
       "country                                  \n",
       "Argentina      1.962465e+05  2.950722e+05\n",
       "Australia      1.905319e+04  5.418047e+05\n",
       "India          1.006300e+06  1.728144e+06\n",
       "Israel         6.114570e+03  1.292539e+05\n",
       "Malawi         1.180150e+04  5.026222e+03\n",
       "South Africa   4.506410e+04  2.272424e+05\n",
       "United States  2.821720e+05  9.898700e+06\n",
       "Uruguay        3.219793e+03  2.525596e+04"
      ]
     },
     "execution_count": 40,
     "metadata": {},
     "output_type": "execute_result"
    }
   ],
   "source": [
    "df = df.set_index('country')\n",
    "df"
   ]
  },
  {
   "cell_type": "markdown",
   "id": "de2526a9",
   "metadata": {},
   "source": [
    "Let’s give the columns slightly better names"
   ]
  },
  {
   "cell_type": "code",
   "execution_count": 41,
   "id": "58906c49",
   "metadata": {
    "hide-output": false
   },
   "outputs": [
    {
     "data": {
      "text/html": [
       "<div>\n",
       "<style scoped>\n",
       "    .dataframe tbody tr th:only-of-type {\n",
       "        vertical-align: middle;\n",
       "    }\n",
       "\n",
       "    .dataframe tbody tr th {\n",
       "        vertical-align: top;\n",
       "    }\n",
       "\n",
       "    .dataframe thead th {\n",
       "        text-align: right;\n",
       "    }\n",
       "</style>\n",
       "<table border=\"1\" class=\"dataframe\">\n",
       "  <thead>\n",
       "    <tr style=\"text-align: right;\">\n",
       "      <th></th>\n",
       "      <th>population</th>\n",
       "      <th>total GDP</th>\n",
       "    </tr>\n",
       "    <tr>\n",
       "      <th>country</th>\n",
       "      <th></th>\n",
       "      <th></th>\n",
       "    </tr>\n",
       "  </thead>\n",
       "  <tbody>\n",
       "    <tr>\n",
       "      <th>Argentina</th>\n",
       "      <td>1.962465e+05</td>\n",
       "      <td>2.950722e+05</td>\n",
       "    </tr>\n",
       "    <tr>\n",
       "      <th>Australia</th>\n",
       "      <td>1.905319e+04</td>\n",
       "      <td>5.418047e+05</td>\n",
       "    </tr>\n",
       "    <tr>\n",
       "      <th>India</th>\n",
       "      <td>1.006300e+06</td>\n",
       "      <td>1.728144e+06</td>\n",
       "    </tr>\n",
       "    <tr>\n",
       "      <th>Israel</th>\n",
       "      <td>6.114570e+03</td>\n",
       "      <td>1.292539e+05</td>\n",
       "    </tr>\n",
       "    <tr>\n",
       "      <th>Malawi</th>\n",
       "      <td>1.180150e+04</td>\n",
       "      <td>5.026222e+03</td>\n",
       "    </tr>\n",
       "    <tr>\n",
       "      <th>South Africa</th>\n",
       "      <td>4.506410e+04</td>\n",
       "      <td>2.272424e+05</td>\n",
       "    </tr>\n",
       "    <tr>\n",
       "      <th>United States</th>\n",
       "      <td>2.821720e+05</td>\n",
       "      <td>9.898700e+06</td>\n",
       "    </tr>\n",
       "    <tr>\n",
       "      <th>Uruguay</th>\n",
       "      <td>3.219793e+03</td>\n",
       "      <td>2.525596e+04</td>\n",
       "    </tr>\n",
       "  </tbody>\n",
       "</table>\n",
       "</div>"
      ],
      "text/plain": [
       "                 population     total GDP\n",
       "country                                  \n",
       "Argentina      1.962465e+05  2.950722e+05\n",
       "Australia      1.905319e+04  5.418047e+05\n",
       "India          1.006300e+06  1.728144e+06\n",
       "Israel         6.114570e+03  1.292539e+05\n",
       "Malawi         1.180150e+04  5.026222e+03\n",
       "South Africa   4.506410e+04  2.272424e+05\n",
       "United States  2.821720e+05  9.898700e+06\n",
       "Uruguay        3.219793e+03  2.525596e+04"
      ]
     },
     "execution_count": 41,
     "metadata": {},
     "output_type": "execute_result"
    }
   ],
   "source": [
    "df.columns = 'population', 'total GDP'\n",
    "df"
   ]
  },
  {
   "cell_type": "markdown",
   "id": "85882d63",
   "metadata": {},
   "source": [
    "The `population` variable is in thousands, let’s revert to single units"
   ]
  },
  {
   "cell_type": "code",
   "execution_count": 42,
   "id": "3c26c899",
   "metadata": {
    "hide-output": false
   },
   "outputs": [
    {
     "data": {
      "text/html": [
       "<div>\n",
       "<style scoped>\n",
       "    .dataframe tbody tr th:only-of-type {\n",
       "        vertical-align: middle;\n",
       "    }\n",
       "\n",
       "    .dataframe tbody tr th {\n",
       "        vertical-align: top;\n",
       "    }\n",
       "\n",
       "    .dataframe thead th {\n",
       "        text-align: right;\n",
       "    }\n",
       "</style>\n",
       "<table border=\"1\" class=\"dataframe\">\n",
       "  <thead>\n",
       "    <tr style=\"text-align: right;\">\n",
       "      <th></th>\n",
       "      <th>population</th>\n",
       "      <th>total GDP</th>\n",
       "    </tr>\n",
       "    <tr>\n",
       "      <th>country</th>\n",
       "      <th></th>\n",
       "      <th></th>\n",
       "    </tr>\n",
       "  </thead>\n",
       "  <tbody>\n",
       "    <tr>\n",
       "      <th>Argentina</th>\n",
       "      <td>1.962465e+08</td>\n",
       "      <td>2.950722e+05</td>\n",
       "    </tr>\n",
       "    <tr>\n",
       "      <th>Australia</th>\n",
       "      <td>1.905319e+07</td>\n",
       "      <td>5.418047e+05</td>\n",
       "    </tr>\n",
       "    <tr>\n",
       "      <th>India</th>\n",
       "      <td>1.006300e+09</td>\n",
       "      <td>1.728144e+06</td>\n",
       "    </tr>\n",
       "    <tr>\n",
       "      <th>Israel</th>\n",
       "      <td>6.114570e+06</td>\n",
       "      <td>1.292539e+05</td>\n",
       "    </tr>\n",
       "    <tr>\n",
       "      <th>Malawi</th>\n",
       "      <td>1.180150e+07</td>\n",
       "      <td>5.026222e+03</td>\n",
       "    </tr>\n",
       "    <tr>\n",
       "      <th>South Africa</th>\n",
       "      <td>4.506410e+07</td>\n",
       "      <td>2.272424e+05</td>\n",
       "    </tr>\n",
       "    <tr>\n",
       "      <th>United States</th>\n",
       "      <td>2.821720e+08</td>\n",
       "      <td>9.898700e+06</td>\n",
       "    </tr>\n",
       "    <tr>\n",
       "      <th>Uruguay</th>\n",
       "      <td>3.219793e+06</td>\n",
       "      <td>2.525596e+04</td>\n",
       "    </tr>\n",
       "  </tbody>\n",
       "</table>\n",
       "</div>"
      ],
      "text/plain": [
       "                 population     total GDP\n",
       "country                                  \n",
       "Argentina      1.962465e+08  2.950722e+05\n",
       "Australia      1.905319e+07  5.418047e+05\n",
       "India          1.006300e+09  1.728144e+06\n",
       "Israel         6.114570e+06  1.292539e+05\n",
       "Malawi         1.180150e+07  5.026222e+03\n",
       "South Africa   4.506410e+07  2.272424e+05\n",
       "United States  2.821720e+08  9.898700e+06\n",
       "Uruguay        3.219793e+06  2.525596e+04"
      ]
     },
     "execution_count": 42,
     "metadata": {},
     "output_type": "execute_result"
    }
   ],
   "source": [
    "df['population'] = df['population'] * 1e3\n",
    "df"
   ]
  },
  {
   "cell_type": "markdown",
   "id": "7dfde9f3",
   "metadata": {},
   "source": [
    "Next, we’re going to add a column showing real GDP per capita, multiplying by 1,000,000 as we go because total GDP is in millions"
   ]
  },
  {
   "cell_type": "code",
   "execution_count": 43,
   "id": "e886e3cf",
   "metadata": {
    "hide-output": false
   },
   "outputs": [
    {
     "data": {
      "text/html": [
       "<div>\n",
       "<style scoped>\n",
       "    .dataframe tbody tr th:only-of-type {\n",
       "        vertical-align: middle;\n",
       "    }\n",
       "\n",
       "    .dataframe tbody tr th {\n",
       "        vertical-align: top;\n",
       "    }\n",
       "\n",
       "    .dataframe thead th {\n",
       "        text-align: right;\n",
       "    }\n",
       "</style>\n",
       "<table border=\"1\" class=\"dataframe\">\n",
       "  <thead>\n",
       "    <tr style=\"text-align: right;\">\n",
       "      <th></th>\n",
       "      <th>population</th>\n",
       "      <th>total GDP</th>\n",
       "      <th>GDP percap</th>\n",
       "    </tr>\n",
       "    <tr>\n",
       "      <th>country</th>\n",
       "      <th></th>\n",
       "      <th></th>\n",
       "      <th></th>\n",
       "    </tr>\n",
       "  </thead>\n",
       "  <tbody>\n",
       "    <tr>\n",
       "      <th>Argentina</th>\n",
       "      <td>1.962465e+08</td>\n",
       "      <td>2.950722e+05</td>\n",
       "      <td>1503.579625</td>\n",
       "    </tr>\n",
       "    <tr>\n",
       "      <th>Australia</th>\n",
       "      <td>1.905319e+07</td>\n",
       "      <td>5.418047e+05</td>\n",
       "      <td>28436.433261</td>\n",
       "    </tr>\n",
       "    <tr>\n",
       "      <th>India</th>\n",
       "      <td>1.006300e+09</td>\n",
       "      <td>1.728144e+06</td>\n",
       "      <td>1717.324719</td>\n",
       "    </tr>\n",
       "    <tr>\n",
       "      <th>Israel</th>\n",
       "      <td>6.114570e+06</td>\n",
       "      <td>1.292539e+05</td>\n",
       "      <td>21138.672749</td>\n",
       "    </tr>\n",
       "    <tr>\n",
       "      <th>Malawi</th>\n",
       "      <td>1.180150e+07</td>\n",
       "      <td>5.026222e+03</td>\n",
       "      <td>425.896679</td>\n",
       "    </tr>\n",
       "    <tr>\n",
       "      <th>South Africa</th>\n",
       "      <td>4.506410e+07</td>\n",
       "      <td>2.272424e+05</td>\n",
       "      <td>5042.647686</td>\n",
       "    </tr>\n",
       "    <tr>\n",
       "      <th>United States</th>\n",
       "      <td>2.821720e+08</td>\n",
       "      <td>9.898700e+06</td>\n",
       "      <td>35080.381854</td>\n",
       "    </tr>\n",
       "    <tr>\n",
       "      <th>Uruguay</th>\n",
       "      <td>3.219793e+06</td>\n",
       "      <td>2.525596e+04</td>\n",
       "      <td>7843.970620</td>\n",
       "    </tr>\n",
       "  </tbody>\n",
       "</table>\n",
       "</div>"
      ],
      "text/plain": [
       "                 population     total GDP    GDP percap\n",
       "country                                                \n",
       "Argentina      1.962465e+08  2.950722e+05   1503.579625\n",
       "Australia      1.905319e+07  5.418047e+05  28436.433261\n",
       "India          1.006300e+09  1.728144e+06   1717.324719\n",
       "Israel         6.114570e+06  1.292539e+05  21138.672749\n",
       "Malawi         1.180150e+07  5.026222e+03    425.896679\n",
       "South Africa   4.506410e+07  2.272424e+05   5042.647686\n",
       "United States  2.821720e+08  9.898700e+06  35080.381854\n",
       "Uruguay        3.219793e+06  2.525596e+04   7843.970620"
      ]
     },
     "execution_count": 43,
     "metadata": {},
     "output_type": "execute_result"
    }
   ],
   "source": [
    "df['GDP percap'] = df['total GDP'] * 1e6 / df['population']\n",
    "df"
   ]
  },
  {
   "cell_type": "markdown",
   "id": "43411f4b",
   "metadata": {},
   "source": [
    "One of the nice things about pandas `DataFrame` and `Series` objects is that they have methods for plotting and visualization that work through Matplotlib.\n",
    "\n",
    "For example, we can easily generate a bar plot of GDP per capita"
   ]
  },
  {
   "cell_type": "code",
   "execution_count": 44,
   "id": "8b323647",
   "metadata": {
    "hide-output": false
   },
   "outputs": [
    {
     "data": {
      "image/png": "[encoded data removed]",
      "text/plain": [
       "<Figure size 640x480 with 1 Axes>"
      ]
     },
     "metadata": {},
     "output_type": "display_data"
    }
   ],
   "source": [
    "ax = df['GDP percap'].plot(kind='bar')\n",
    "ax.set_xlabel('country', fontsize=12)\n",
    "ax.set_ylabel('GDP per capita', fontsize=12)\n",
    "plt.show()"
   ]
  },
  {
   "cell_type": "markdown",
   "id": "12789f30",
   "metadata": {},
   "source": [
    "At the moment the data frame is ordered alphabetically on the countries—let’s change it to GDP per capita"
   ]
  },
  {
   "cell_type": "code",
   "execution_count": 45,
   "id": "588db11e",
   "metadata": {
    "hide-output": false
   },
   "outputs": [
    {
     "data": {
      "text/html": [
       "<div>\n",
       "<style scoped>\n",
       "    .dataframe tbody tr th:only-of-type {\n",
       "        vertical-align: middle;\n",
       "    }\n",
       "\n",
       "    .dataframe tbody tr th {\n",
       "        vertical-align: top;\n",
       "    }\n",
       "\n",
       "    .dataframe thead th {\n",
       "        text-align: right;\n",
       "    }\n",
       "</style>\n",
       "<table border=\"1\" class=\"dataframe\">\n",
       "  <thead>\n",
       "    <tr style=\"text-align: right;\">\n",
       "      <th></th>\n",
       "      <th>population</th>\n",
       "      <th>total GDP</th>\n",
       "      <th>GDP percap</th>\n",
       "    </tr>\n",
       "    <tr>\n",
       "      <th>country</th>\n",
       "      <th></th>\n",
       "      <th></th>\n",
       "      <th></th>\n",
       "    </tr>\n",
       "  </thead>\n",
       "  <tbody>\n",
       "    <tr>\n",
       "      <th>United States</th>\n",
       "      <td>2.821720e+08</td>\n",
       "      <td>9.898700e+06</td>\n",
       "      <td>35080.381854</td>\n",
       "    </tr>\n",
       "    <tr>\n",
       "      <th>Australia</th>\n",
       "      <td>1.905319e+07</td>\n",
       "      <td>5.418047e+05</td>\n",
       "      <td>28436.433261</td>\n",
       "    </tr>\n",
       "    <tr>\n",
       "      <th>Israel</th>\n",
       "      <td>6.114570e+06</td>\n",
       "      <td>1.292539e+05</td>\n",
       "      <td>21138.672749</td>\n",
       "    </tr>\n",
       "    <tr>\n",
       "      <th>Uruguay</th>\n",
       "      <td>3.219793e+06</td>\n",
       "      <td>2.525596e+04</td>\n",
       "      <td>7843.970620</td>\n",
       "    </tr>\n",
       "    <tr>\n",
       "      <th>South Africa</th>\n",
       "      <td>4.506410e+07</td>\n",
       "      <td>2.272424e+05</td>\n",
       "      <td>5042.647686</td>\n",
       "    </tr>\n",
       "    <tr>\n",
       "      <th>India</th>\n",
       "      <td>1.006300e+09</td>\n",
       "      <td>1.728144e+06</td>\n",
       "      <td>1717.324719</td>\n",
       "    </tr>\n",
       "    <tr>\n",
       "      <th>Argentina</th>\n",
       "      <td>1.962465e+08</td>\n",
       "      <td>2.950722e+05</td>\n",
       "      <td>1503.579625</td>\n",
       "    </tr>\n",
       "    <tr>\n",
       "      <th>Malawi</th>\n",
       "      <td>1.180150e+07</td>\n",
       "      <td>5.026222e+03</td>\n",
       "      <td>425.896679</td>\n",
       "    </tr>\n",
       "  </tbody>\n",
       "</table>\n",
       "</div>"
      ],
      "text/plain": [
       "                 population     total GDP    GDP percap\n",
       "country                                                \n",
       "United States  2.821720e+08  9.898700e+06  35080.381854\n",
       "Australia      1.905319e+07  5.418047e+05  28436.433261\n",
       "Israel         6.114570e+06  1.292539e+05  21138.672749\n",
       "Uruguay        3.219793e+06  2.525596e+04   7843.970620\n",
       "South Africa   4.506410e+07  2.272424e+05   5042.647686\n",
       "India          1.006300e+09  1.728144e+06   1717.324719\n",
       "Argentina      1.962465e+08  2.950722e+05   1503.579625\n",
       "Malawi         1.180150e+07  5.026222e+03    425.896679"
      ]
     },
     "execution_count": 45,
     "metadata": {},
     "output_type": "execute_result"
    }
   ],
   "source": [
    "df = df.sort_values(by='GDP percap', ascending=False)\n",
    "df"
   ]
  },
  {
   "cell_type": "markdown",
   "id": "fbd79cce",
   "metadata": {},
   "source": [
    "Plotting as before now yields"
   ]
  },
  {
   "cell_type": "code",
   "execution_count": 46,
   "id": "c2ff635d",
   "metadata": {
    "hide-output": false
   },
   "outputs": [
    {
     "data": {
      "image/png": "[encoded data removed]",
      "text/plain": [
       "<Figure size 640x480 with 1 Axes>"
      ]
     },
     "metadata": {},
     "output_type": "display_data"
    }
   ],
   "source": [
    "ax = df['GDP percap'].plot(kind='bar')\n",
    "ax.set_xlabel('country', fontsize=12)\n",
    "ax.set_ylabel('GDP per capita', fontsize=12)\n",
    "plt.show()"
   ]
  },
  {
   "cell_type": "markdown",
   "id": "622e297b",
   "metadata": {},
   "source": [
    "This work is based in part on material under the **Creative Commons Attribution-ShareAlike 4.0 International License**.\n",
    "\n",
    "- **Original author**: Thomas J. Sargent and John Stachurski\n",
    "- **Title of work**: Python Programming for Economics and Finance\n",
    "- **License link**: [Creative Commons Attribution-ShareAlike 4.0 International](https://creativecommons.org/licenses/by-sa/4.0/)"
   ]
  }
 ],
 "metadata": {
  "date": 1718235142.8125846,
  "filename": "pandas.md",
  "kernelspec": {
   "display_name": "Python",
   "language": "python3",
   "name": "python3"
  },
  "language_info": {
   "codemirror_mode": {
    "name": "ipython",
    "version": 3
   },
   "file_extension": ".py",
   "mimetype": "text/x-python",
   "name": "python",
   "nbconvert_exporter": "python",
   "pygments_lexer": "ipython3",
   "version": "3.9.6"
  },
  "title": "Pandas"
 },
 "nbformat": 4,
 "nbformat_minor": 5
}
